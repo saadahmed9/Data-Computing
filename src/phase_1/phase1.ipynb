{
  "cells": [
    {
      "cell_type": "code",
      "execution_count": 1,
      "metadata": {
        "id": "mU5COWRVwS2a"
      },
      "outputs": [],
      "source": [
        "import pandas as pd\n",
        "import seaborn as sns\n",
        "pd.set_option('display.max_rows', None)\n",
        "\n",
        "df = pd.read_csv(\"/content/project_data.csv\")\n"
      ]
    },
    {
      "cell_type": "code",
      "execution_count": 2,
      "metadata": {
        "colab": {
          "base_uri": "https://localhost:8080/"
        },
        "id": "t__YI-hkyXPp",
        "outputId": "439016c6-7c91-4e52-dac3-952370e74461"
      },
      "outputs": [
        {
          "name": "stdout",
          "output_type": "stream",
          "text": [
            "SEQN                            int64\n",
            "depression                      int64\n",
            "Used Drugs                    float64\n",
            "height(in)                      int64\n",
            "weight(pound)                   int64\n",
            "has diabetes?                   int64\n",
            "#people in family               int64\n",
            "ALQ120Q                       float64\n",
            "alc_drinks_perday             float64\n",
            "5_drinks_perday/ALQ150        float64\n",
            "Gender                          int64\n",
            "Age                             int64\n",
            "Educationlevel                  int64\n",
            "maritalStatus                   int64\n",
            "INDFMPIR/Poverty threshold    float64\n",
            "dtype: object\n"
          ]
        }
      ],
      "source": [
        "print(df.dtypes)"
      ]
    },
    {
      "cell_type": "code",
      "execution_count": 3,
      "metadata": {
        "colab": {
          "base_uri": "https://localhost:8080/",
          "height": 461
        },
        "id": "pj9SNvnxBbNu",
        "outputId": "772733d9-8c9b-46cc-d7ba-a1d79302cd81"
      },
      "outputs": [
        {
          "data": {
            "text/html": [
              "\n",
              "  <div id=\"df-5f90007b-7f6e-4b09-bf2c-c2761779b274\">\n",
              "    <div class=\"colab-df-container\">\n",
              "      <div>\n",
              "<style scoped>\n",
              "    .dataframe tbody tr th:only-of-type {\n",
              "        vertical-align: middle;\n",
              "    }\n",
              "\n",
              "    .dataframe tbody tr th {\n",
              "        vertical-align: top;\n",
              "    }\n",
              "\n",
              "    .dataframe thead th {\n",
              "        text-align: right;\n",
              "    }\n",
              "</style>\n",
              "<table border=\"1\" class=\"dataframe\">\n",
              "  <thead>\n",
              "    <tr style=\"text-align: right;\">\n",
              "      <th></th>\n",
              "      <th>SEQN</th>\n",
              "      <th>depression</th>\n",
              "      <th>Used Drugs</th>\n",
              "      <th>height(in)</th>\n",
              "      <th>weight(pound)</th>\n",
              "      <th>has diabetes?</th>\n",
              "      <th>#people in family</th>\n",
              "      <th>ALQ120Q</th>\n",
              "      <th>alc_drinks_perday</th>\n",
              "      <th>5_drinks_perday/ALQ150</th>\n",
              "      <th>Gender</th>\n",
              "      <th>Age</th>\n",
              "      <th>Educationlevel</th>\n",
              "      <th>maritalStatus</th>\n",
              "      <th>INDFMPIR/Poverty threshold</th>\n",
              "    </tr>\n",
              "  </thead>\n",
              "  <tbody>\n",
              "    <tr>\n",
              "      <th>0</th>\n",
              "      <td>41475</td>\n",
              "      <td>0</td>\n",
              "      <td>2.0</td>\n",
              "      <td>62</td>\n",
              "      <td>308</td>\n",
              "      <td>2</td>\n",
              "      <td>2</td>\n",
              "      <td>0.0</td>\n",
              "      <td>NaN</td>\n",
              "      <td>2.0</td>\n",
              "      <td>2</td>\n",
              "      <td>62</td>\n",
              "      <td>3</td>\n",
              "      <td>1</td>\n",
              "      <td>1.83</td>\n",
              "    </tr>\n",
              "    <tr>\n",
              "      <th>1</th>\n",
              "      <td>41477</td>\n",
              "      <td>0</td>\n",
              "      <td>NaN</td>\n",
              "      <td>68</td>\n",
              "      <td>190</td>\n",
              "      <td>1</td>\n",
              "      <td>2</td>\n",
              "      <td>0.0</td>\n",
              "      <td>NaN</td>\n",
              "      <td>2.0</td>\n",
              "      <td>1</td>\n",
              "      <td>71</td>\n",
              "      <td>3</td>\n",
              "      <td>1</td>\n",
              "      <td>1.50</td>\n",
              "    </tr>\n",
              "    <tr>\n",
              "      <th>2</th>\n",
              "      <td>41479</td>\n",
              "      <td>0</td>\n",
              "      <td>2.0</td>\n",
              "      <td>67</td>\n",
              "      <td>142</td>\n",
              "      <td>2</td>\n",
              "      <td>5</td>\n",
              "      <td>3.0</td>\n",
              "      <td>5.0</td>\n",
              "      <td>2.0</td>\n",
              "      <td>1</td>\n",
              "      <td>52</td>\n",
              "      <td>1</td>\n",
              "      <td>1</td>\n",
              "      <td>2.20</td>\n",
              "    </tr>\n",
              "    <tr>\n",
              "      <th>3</th>\n",
              "      <td>41481</td>\n",
              "      <td>0</td>\n",
              "      <td>2.0</td>\n",
              "      <td>73</td>\n",
              "      <td>175</td>\n",
              "      <td>2</td>\n",
              "      <td>4</td>\n",
              "      <td>3.0</td>\n",
              "      <td>4.0</td>\n",
              "      <td>2.0</td>\n",
              "      <td>1</td>\n",
              "      <td>21</td>\n",
              "      <td>3</td>\n",
              "      <td>5</td>\n",
              "      <td>1.63</td>\n",
              "    </tr>\n",
              "    <tr>\n",
              "      <th>4</th>\n",
              "      <td>41482</td>\n",
              "      <td>1</td>\n",
              "      <td>9.0</td>\n",
              "      <td>68</td>\n",
              "      <td>228</td>\n",
              "      <td>2</td>\n",
              "      <td>6</td>\n",
              "      <td>1.0</td>\n",
              "      <td>4.0</td>\n",
              "      <td>1.0</td>\n",
              "      <td>1</td>\n",
              "      <td>64</td>\n",
              "      <td>2</td>\n",
              "      <td>1</td>\n",
              "      <td>4.01</td>\n",
              "    </tr>\n",
              "    <tr>\n",
              "      <th>5</th>\n",
              "      <td>41483</td>\n",
              "      <td>0</td>\n",
              "      <td>2.0</td>\n",
              "      <td>71</td>\n",
              "      <td>289</td>\n",
              "      <td>1</td>\n",
              "      <td>3</td>\n",
              "      <td>0.0</td>\n",
              "      <td>NaN</td>\n",
              "      <td>2.0</td>\n",
              "      <td>1</td>\n",
              "      <td>66</td>\n",
              "      <td>4</td>\n",
              "      <td>1</td>\n",
              "      <td>1.14</td>\n",
              "    </tr>\n",
              "    <tr>\n",
              "      <th>6</th>\n",
              "      <td>41485</td>\n",
              "      <td>1</td>\n",
              "      <td>2.0</td>\n",
              "      <td>63</td>\n",
              "      <td>138</td>\n",
              "      <td>2</td>\n",
              "      <td>5</td>\n",
              "      <td>NaN</td>\n",
              "      <td>NaN</td>\n",
              "      <td>NaN</td>\n",
              "      <td>2</td>\n",
              "      <td>30</td>\n",
              "      <td>2</td>\n",
              "      <td>1</td>\n",
              "      <td>1.01</td>\n",
              "    </tr>\n",
              "    <tr>\n",
              "      <th>7</th>\n",
              "      <td>41486</td>\n",
              "      <td>0</td>\n",
              "      <td>2.0</td>\n",
              "      <td>64</td>\n",
              "      <td>187</td>\n",
              "      <td>2</td>\n",
              "      <td>3</td>\n",
              "      <td>NaN</td>\n",
              "      <td>NaN</td>\n",
              "      <td>NaN</td>\n",
              "      <td>2</td>\n",
              "      <td>61</td>\n",
              "      <td>1</td>\n",
              "      <td>1</td>\n",
              "      <td>1.75</td>\n",
              "    </tr>\n",
              "    <tr>\n",
              "      <th>8</th>\n",
              "      <td>41487</td>\n",
              "      <td>0</td>\n",
              "      <td>2.0</td>\n",
              "      <td>68</td>\n",
              "      <td>150</td>\n",
              "      <td>2</td>\n",
              "      <td>1</td>\n",
              "      <td>1.0</td>\n",
              "      <td>1.0</td>\n",
              "      <td>2.0</td>\n",
              "      <td>1</td>\n",
              "      <td>27</td>\n",
              "      <td>5</td>\n",
              "      <td>5</td>\n",
              "      <td>5.00</td>\n",
              "    </tr>\n",
              "    <tr>\n",
              "      <th>9</th>\n",
              "      <td>41489</td>\n",
              "      <td>0</td>\n",
              "      <td>2.0</td>\n",
              "      <td>63</td>\n",
              "      <td>200</td>\n",
              "      <td>2</td>\n",
              "      <td>3</td>\n",
              "      <td>3.0</td>\n",
              "      <td>5.0</td>\n",
              "      <td>2.0</td>\n",
              "      <td>2</td>\n",
              "      <td>40</td>\n",
              "      <td>3</td>\n",
              "      <td>1</td>\n",
              "      <td>2.15</td>\n",
              "    </tr>\n",
              "  </tbody>\n",
              "</table>\n",
              "</div>\n",
              "      <button class=\"colab-df-convert\" onclick=\"convertToInteractive('df-5f90007b-7f6e-4b09-bf2c-c2761779b274')\"\n",
              "              title=\"Convert this dataframe to an interactive table.\"\n",
              "              style=\"display:none;\">\n",
              "        \n",
              "  <svg xmlns=\"http://www.w3.org/2000/svg\" height=\"24px\"viewBox=\"0 0 24 24\"\n",
              "       width=\"24px\">\n",
              "    <path d=\"M0 0h24v24H0V0z\" fill=\"none\"/>\n",
              "    <path d=\"M18.56 5.44l.94 2.06.94-2.06 2.06-.94-2.06-.94-.94-2.06-.94 2.06-2.06.94zm-11 1L8.5 8.5l.94-2.06 2.06-.94-2.06-.94L8.5 2.5l-.94 2.06-2.06.94zm10 10l.94 2.06.94-2.06 2.06-.94-2.06-.94-.94-2.06-.94 2.06-2.06.94z\"/><path d=\"M17.41 7.96l-1.37-1.37c-.4-.4-.92-.59-1.43-.59-.52 0-1.04.2-1.43.59L10.3 9.45l-7.72 7.72c-.78.78-.78 2.05 0 2.83L4 21.41c.39.39.9.59 1.41.59.51 0 1.02-.2 1.41-.59l7.78-7.78 2.81-2.81c.8-.78.8-2.07 0-2.86zM5.41 20L4 18.59l7.72-7.72 1.47 1.35L5.41 20z\"/>\n",
              "  </svg>\n",
              "      </button>\n",
              "      \n",
              "  <style>\n",
              "    .colab-df-container {\n",
              "      display:flex;\n",
              "      flex-wrap:wrap;\n",
              "      gap: 12px;\n",
              "    }\n",
              "\n",
              "    .colab-df-convert {\n",
              "      background-color: #E8F0FE;\n",
              "      border: none;\n",
              "      border-radius: 50%;\n",
              "      cursor: pointer;\n",
              "      display: none;\n",
              "      fill: #1967D2;\n",
              "      height: 32px;\n",
              "      padding: 0 0 0 0;\n",
              "      width: 32px;\n",
              "    }\n",
              "\n",
              "    .colab-df-convert:hover {\n",
              "      background-color: #E2EBFA;\n",
              "      box-shadow: 0px 1px 2px rgba(60, 64, 67, 0.3), 0px 1px 3px 1px rgba(60, 64, 67, 0.15);\n",
              "      fill: #174EA6;\n",
              "    }\n",
              "\n",
              "    [theme=dark] .colab-df-convert {\n",
              "      background-color: #3B4455;\n",
              "      fill: #D2E3FC;\n",
              "    }\n",
              "\n",
              "    [theme=dark] .colab-df-convert:hover {\n",
              "      background-color: #434B5C;\n",
              "      box-shadow: 0px 1px 3px 1px rgba(0, 0, 0, 0.15);\n",
              "      filter: drop-shadow(0px 1px 2px rgba(0, 0, 0, 0.3));\n",
              "      fill: #FFFFFF;\n",
              "    }\n",
              "  </style>\n",
              "\n",
              "      <script>\n",
              "        const buttonEl =\n",
              "          document.querySelector('#df-5f90007b-7f6e-4b09-bf2c-c2761779b274 button.colab-df-convert');\n",
              "        buttonEl.style.display =\n",
              "          google.colab.kernel.accessAllowed ? 'block' : 'none';\n",
              "\n",
              "        async function convertToInteractive(key) {\n",
              "          const element = document.querySelector('#df-5f90007b-7f6e-4b09-bf2c-c2761779b274');\n",
              "          const dataTable =\n",
              "            await google.colab.kernel.invokeFunction('convertToInteractive',\n",
              "                                                     [key], {});\n",
              "          if (!dataTable) return;\n",
              "\n",
              "          const docLinkHtml = 'Like what you see? Visit the ' +\n",
              "            '<a target=\"_blank\" href=https://colab.research.google.com/notebooks/data_table.ipynb>data table notebook</a>'\n",
              "            + ' to learn more about interactive tables.';\n",
              "          element.innerHTML = '';\n",
              "          dataTable['output_type'] = 'display_data';\n",
              "          await google.colab.output.renderOutput(dataTable, element);\n",
              "          const docLink = document.createElement('div');\n",
              "          docLink.innerHTML = docLinkHtml;\n",
              "          element.appendChild(docLink);\n",
              "        }\n",
              "      </script>\n",
              "    </div>\n",
              "  </div>\n",
              "  "
            ],
            "text/plain": [
              "    SEQN  depression  Used Drugs  height(in)  weight(pound)  has diabetes?  \\\n",
              "0  41475           0         2.0          62            308              2   \n",
              "1  41477           0         NaN          68            190              1   \n",
              "2  41479           0         2.0          67            142              2   \n",
              "3  41481           0         2.0          73            175              2   \n",
              "4  41482           1         9.0          68            228              2   \n",
              "5  41483           0         2.0          71            289              1   \n",
              "6  41485           1         2.0          63            138              2   \n",
              "7  41486           0         2.0          64            187              2   \n",
              "8  41487           0         2.0          68            150              2   \n",
              "9  41489           0         2.0          63            200              2   \n",
              "\n",
              "   #people in family  ALQ120Q  alc_drinks_perday  5_drinks_perday/ALQ150  \\\n",
              "0                  2      0.0                NaN                     2.0   \n",
              "1                  2      0.0                NaN                     2.0   \n",
              "2                  5      3.0                5.0                     2.0   \n",
              "3                  4      3.0                4.0                     2.0   \n",
              "4                  6      1.0                4.0                     1.0   \n",
              "5                  3      0.0                NaN                     2.0   \n",
              "6                  5      NaN                NaN                     NaN   \n",
              "7                  3      NaN                NaN                     NaN   \n",
              "8                  1      1.0                1.0                     2.0   \n",
              "9                  3      3.0                5.0                     2.0   \n",
              "\n",
              "   Gender  Age  Educationlevel  maritalStatus  INDFMPIR/Poverty threshold  \n",
              "0       2   62               3              1                        1.83  \n",
              "1       1   71               3              1                        1.50  \n",
              "2       1   52               1              1                        2.20  \n",
              "3       1   21               3              5                        1.63  \n",
              "4       1   64               2              1                        4.01  \n",
              "5       1   66               4              1                        1.14  \n",
              "6       2   30               2              1                        1.01  \n",
              "7       2   61               1              1                        1.75  \n",
              "8       1   27               5              5                        5.00  \n",
              "9       2   40               3              1                        2.15  "
            ]
          },
          "execution_count": 3,
          "metadata": {},
          "output_type": "execute_result"
        }
      ],
      "source": [
        "df.head(10)"
      ]
    },
    {
      "cell_type": "markdown",
      "metadata": {
        "id": "6KB1cqyX2dwV"
      },
      "source": [
        "# Check % of Null values in each column"
      ]
    },
    {
      "cell_type": "code",
      "execution_count": 4,
      "metadata": {
        "colab": {
          "base_uri": "https://localhost:8080/"
        },
        "id": "mgI7fnyB1gN1",
        "outputId": "26de7226-6124-4713-b259-67d0e1b8c405"
      },
      "outputs": [
        {
          "name": "stdout",
          "output_type": "stream",
          "text": [
            "SEQN                           0.000000\n",
            "depression                     0.000000\n",
            "Used Drugs                    18.959173\n",
            "height(in)                     0.000000\n",
            "weight(pound)                  0.000000\n",
            "has diabetes?                  0.000000\n",
            "#people in family              0.000000\n",
            "ALQ120Q                       22.305940\n",
            "alc_drinks_perday             41.773261\n",
            "5_drinks_perday/ALQ150        22.305940\n",
            "Gender                         0.000000\n",
            "Age                            0.000000\n",
            "Educationlevel                 0.000000\n",
            "maritalStatus                  0.000000\n",
            "INDFMPIR/Poverty threshold     9.286841\n",
            "dtype: float64\n"
          ]
        }
      ],
      "source": [
        "# calculate percentage of missing values in each column\n",
        "missing_pct = df.isna().mean() * 100\n",
        "\n",
        "print(missing_pct)"
      ]
    },
    {
      "cell_type": "code",
      "execution_count": 5,
      "metadata": {
        "id": "az3o5QEM2TGF"
      },
      "outputs": [],
      "source": [
        "# Dropping column alc_drinks_perday as it has more than 40% null values\n",
        "df = df.drop('alc_drinks_perday',axis=1)"
      ]
    },
    {
      "cell_type": "code",
      "execution_count": 6,
      "metadata": {
        "colab": {
          "base_uri": "https://localhost:8080/"
        },
        "id": "Sztzk8e8RwrU",
        "outputId": "2e9ac49b-4b5a-4e1d-de78-2536e5bea271"
      },
      "outputs": [
        {
          "data": {
            "text/plain": [
              "(5707, 14)"
            ]
          },
          "execution_count": 6,
          "metadata": {},
          "output_type": "execute_result"
        }
      ],
      "source": [
        "df.shape"
      ]
    },
    {
      "cell_type": "markdown",
      "metadata": {
        "id": "Tk6BOd3b6E7a"
      },
      "source": [
        "# Check and drop Duplicates in the dataframe"
      ]
    },
    {
      "cell_type": "code",
      "execution_count": 7,
      "metadata": {
        "id": "J53wkc6H6NF5"
      },
      "outputs": [],
      "source": [
        "df = df.drop_duplicates()"
      ]
    },
    {
      "cell_type": "code",
      "execution_count": 8,
      "metadata": {
        "colab": {
          "base_uri": "https://localhost:8080/"
        },
        "id": "f7XspRD0R0NV",
        "outputId": "80481df9-197a-4118-d70a-8a57cfcefef4"
      },
      "outputs": [
        {
          "data": {
            "text/plain": [
              "(5707, 14)"
            ]
          },
          "execution_count": 8,
          "metadata": {},
          "output_type": "execute_result"
        }
      ],
      "source": [
        "df.shape"
      ]
    },
    {
      "cell_type": "markdown",
      "metadata": {
        "id": "baKOEpaHAaPA"
      },
      "source": [
        "# Cleaning SEQN column\n",
        "\n",
        "**Rename the sequence number to person. This is a unique identifier of a person**\n",
        "\n",
        "> Indented block\n",
        "\n"
      ]
    },
    {
      "cell_type": "code",
      "execution_count": 9,
      "metadata": {
        "id": "-yBClsM0zH5x"
      },
      "outputs": [],
      "source": [
        "df=df.rename(columns={\"SEQN\": \"Person\"})"
      ]
    },
    {
      "cell_type": "markdown",
      "metadata": {
        "id": "Ulp1Hhc1rJKR"
      },
      "source": [
        "# Cleaning of Age column"
      ]
    },
    {
      "cell_type": "code",
      "execution_count": 10,
      "metadata": {
        "colab": {
          "base_uri": "https://localhost:8080/"
        },
        "id": "WmLnpyzAuHFs",
        "outputId": "a5c4e800-ff56-4a4b-c158-575333946797"
      },
      "outputs": [
        {
          "data": {
            "text/plain": [
              "count    5707.000000\n",
              "mean       51.196776\n",
              "std        29.869115\n",
              "min        20.000000\n",
              "25%        36.000000\n",
              "50%        50.000000\n",
              "75%        65.000000\n",
              "max      1300.000000\n",
              "Name: Age, dtype: float64"
            ]
          },
          "execution_count": 10,
          "metadata": {},
          "output_type": "execute_result"
        }
      ],
      "source": [
        "df['Age'].describe()"
      ]
    },
    {
      "cell_type": "code",
      "execution_count": 11,
      "metadata": {
        "colab": {
          "base_uri": "https://localhost:8080/",
          "height": 351
        },
        "id": "VndrVXb3uoZ-",
        "outputId": "22058a1b-d662-42d9-e9f5-b842bc40da42"
      },
      "outputs": [
        {
          "name": "stderr",
          "output_type": "stream",
          "text": [
            "/usr/local/lib/python3.8/dist-packages/seaborn/_decorators.py:36: FutureWarning: Pass the following variable as a keyword arg: x. From version 0.12, the only valid positional argument will be `data`, and passing other arguments without an explicit keyword will result in an error or misinterpretation.\n",
            "  warnings.warn(\n"
          ]
        },
        {
          "data": {
            "text/plain": [
              "<AxesSubplot:xlabel='Age'>"
            ]
          },
          "execution_count": 11,
          "metadata": {},
          "output_type": "execute_result"
        },
        {
          "data": {
            "image/png": "[encoded data removed]",
            "text/plain": [
              "<Figure size 432x288 with 1 Axes>"
            ]
          },
          "metadata": {
            "needs_background": "light"
          },
          "output_type": "display_data"
        }
      ],
      "source": [
        "sns.boxplot(df['Age'])"
      ]
    },
    {
      "cell_type": "code",
      "execution_count": 12,
      "metadata": {
        "id": "_tlAXg37xOrE"
      },
      "outputs": [],
      "source": [
        "# calculate the IQR of 'Age'\n",
        "q1 = df['Age'].quantile(0.25)\n",
        "q3 = df['Age'].quantile(0.75)\n",
        "iqr = q3 - q1\n",
        "\n",
        "# identify outliers in 'Age'\n",
        "lower_bound = q1 - 1.5*iqr\n",
        "upper_bound = q3 + 1.5*iqr\n",
        "outliers = df.loc[(df['Age'] < lower_bound) | (df['Age'] > upper_bound)]"
      ]
    },
    {
      "cell_type": "code",
      "execution_count": 13,
      "metadata": {
        "id": "GlDIGja7xT0u"
      },
      "outputs": [],
      "source": [
        "df= df[(df['Age'] < upper_bound) & (df['Age'] > lower_bound)]"
      ]
    },
    {
      "cell_type": "code",
      "execution_count": 14,
      "metadata": {
        "colab": {
          "base_uri": "https://localhost:8080/",
          "height": 296
        },
        "id": "2OECwbeyxgKP",
        "outputId": "6b30dde6-094b-4972-eb43-c9fccac23359"
      },
      "outputs": [
        {
          "data": {
            "text/plain": [
              "<AxesSubplot:xlabel='Age'>"
            ]
          },
          "execution_count": 14,
          "metadata": {},
          "output_type": "execute_result"
        },
        {
          "data": {
            "image/png": "[encoded data removed]",
            "text/plain": [
              "<Figure size 432x288 with 1 Axes>"
            ]
          },
          "metadata": {
            "needs_background": "light"
          },
          "output_type": "display_data"
        }
      ],
      "source": [
        "sns.boxplot(x=df['Age'])"
      ]
    },
    {
      "cell_type": "markdown",
      "metadata": {
        "id": "PCt6Rr1LA8z4"
      },
      "source": [
        "# Cleaning of depression column\n",
        "\n",
        "**In the depression column, set the values with 2 or 3 to 1. The final output will have either 0 (No) or 1 (yes)**"
      ]
    },
    {
      "cell_type": "code",
      "execution_count": 15,
      "metadata": {
        "colab": {
          "base_uri": "https://localhost:8080/"
        },
        "id": "90PMF5TSzxmP",
        "outputId": "7b5d2813-6a07-4414-fc08-a38efa21bb5d"
      },
      "outputs": [
        {
          "name": "stdout",
          "output_type": "stream",
          "text": [
            "0\n"
          ]
        }
      ],
      "source": [
        "df.loc[(df['depression'] == 1) | (df['depression'] == 2) | (df['depression'] == 3), 'depression'] = 1\n",
        "null_values = df['depression'].isnull().sum()\n",
        "print(null_values)\n"
      ]
    },
    {
      "cell_type": "markdown",
      "metadata": {
        "id": "-2R5BOu2Bqcb"
      },
      "source": [
        "**In the depression column, drop the rows with values 7 and 9 as it does not contribute any value to the process**"
      ]
    },
    {
      "cell_type": "code",
      "execution_count": 16,
      "metadata": {
        "id": "1IlWlacI3Xtz"
      },
      "outputs": [],
      "source": [
        "#dropping rows where depression is equal to 7 or 9\n",
        "depression_drop = df[(df['depression'] == 7) | (df['depression'] == 9) ].index\n",
        "df.drop(depression_drop , inplace=True)"
      ]
    },
    {
      "cell_type": "code",
      "execution_count": 17,
      "metadata": {
        "colab": {
          "base_uri": "https://localhost:8080/"
        },
        "id": "HR0Xp5zs4ORi",
        "outputId": "daf3e933-31fa-461c-8c6c-61a520b03877"
      },
      "outputs": [
        {
          "data": {
            "text/plain": [
              "(5696, 14)"
            ]
          },
          "execution_count": 17,
          "metadata": {},
          "output_type": "execute_result"
        }
      ],
      "source": [
        "df.shape"
      ]
    },
    {
      "cell_type": "code",
      "execution_count": 18,
      "metadata": {
        "colab": {
          "base_uri": "https://localhost:8080/",
          "height": 461
        },
        "id": "Ito3uQm4AvaQ",
        "outputId": "98eaf37e-7f79-4887-d29b-55ce29345290"
      },
      "outputs": [
        {
          "data": {
            "text/html": [
              "\n",
              "  <div id=\"df-bf962873-8c38-4075-918d-dbfc80e7564d\">\n",
              "    <div class=\"colab-df-container\">\n",
              "      <div>\n",
              "<style scoped>\n",
              "    .dataframe tbody tr th:only-of-type {\n",
              "        vertical-align: middle;\n",
              "    }\n",
              "\n",
              "    .dataframe tbody tr th {\n",
              "        vertical-align: top;\n",
              "    }\n",
              "\n",
              "    .dataframe thead th {\n",
              "        text-align: right;\n",
              "    }\n",
              "</style>\n",
              "<table border=\"1\" class=\"dataframe\">\n",
              "  <thead>\n",
              "    <tr style=\"text-align: right;\">\n",
              "      <th></th>\n",
              "      <th>Person</th>\n",
              "      <th>depression</th>\n",
              "      <th>Used Drugs</th>\n",
              "      <th>height(in)</th>\n",
              "      <th>weight(pound)</th>\n",
              "      <th>has diabetes?</th>\n",
              "      <th>#people in family</th>\n",
              "      <th>ALQ120Q</th>\n",
              "      <th>5_drinks_perday/ALQ150</th>\n",
              "      <th>Gender</th>\n",
              "      <th>Age</th>\n",
              "      <th>Educationlevel</th>\n",
              "      <th>maritalStatus</th>\n",
              "      <th>INDFMPIR/Poverty threshold</th>\n",
              "    </tr>\n",
              "  </thead>\n",
              "  <tbody>\n",
              "    <tr>\n",
              "      <th>0</th>\n",
              "      <td>41475</td>\n",
              "      <td>0</td>\n",
              "      <td>2.0</td>\n",
              "      <td>62</td>\n",
              "      <td>308</td>\n",
              "      <td>2</td>\n",
              "      <td>2</td>\n",
              "      <td>0.0</td>\n",
              "      <td>2.0</td>\n",
              "      <td>2</td>\n",
              "      <td>62</td>\n",
              "      <td>3</td>\n",
              "      <td>1</td>\n",
              "      <td>1.83</td>\n",
              "    </tr>\n",
              "    <tr>\n",
              "      <th>1</th>\n",
              "      <td>41477</td>\n",
              "      <td>0</td>\n",
              "      <td>NaN</td>\n",
              "      <td>68</td>\n",
              "      <td>190</td>\n",
              "      <td>1</td>\n",
              "      <td>2</td>\n",
              "      <td>0.0</td>\n",
              "      <td>2.0</td>\n",
              "      <td>1</td>\n",
              "      <td>71</td>\n",
              "      <td>3</td>\n",
              "      <td>1</td>\n",
              "      <td>1.50</td>\n",
              "    </tr>\n",
              "    <tr>\n",
              "      <th>2</th>\n",
              "      <td>41479</td>\n",
              "      <td>0</td>\n",
              "      <td>2.0</td>\n",
              "      <td>67</td>\n",
              "      <td>142</td>\n",
              "      <td>2</td>\n",
              "      <td>5</td>\n",
              "      <td>3.0</td>\n",
              "      <td>2.0</td>\n",
              "      <td>1</td>\n",
              "      <td>52</td>\n",
              "      <td>1</td>\n",
              "      <td>1</td>\n",
              "      <td>2.20</td>\n",
              "    </tr>\n",
              "    <tr>\n",
              "      <th>3</th>\n",
              "      <td>41481</td>\n",
              "      <td>0</td>\n",
              "      <td>2.0</td>\n",
              "      <td>73</td>\n",
              "      <td>175</td>\n",
              "      <td>2</td>\n",
              "      <td>4</td>\n",
              "      <td>3.0</td>\n",
              "      <td>2.0</td>\n",
              "      <td>1</td>\n",
              "      <td>21</td>\n",
              "      <td>3</td>\n",
              "      <td>5</td>\n",
              "      <td>1.63</td>\n",
              "    </tr>\n",
              "    <tr>\n",
              "      <th>4</th>\n",
              "      <td>41482</td>\n",
              "      <td>1</td>\n",
              "      <td>9.0</td>\n",
              "      <td>68</td>\n",
              "      <td>228</td>\n",
              "      <td>2</td>\n",
              "      <td>6</td>\n",
              "      <td>1.0</td>\n",
              "      <td>1.0</td>\n",
              "      <td>1</td>\n",
              "      <td>64</td>\n",
              "      <td>2</td>\n",
              "      <td>1</td>\n",
              "      <td>4.01</td>\n",
              "    </tr>\n",
              "    <tr>\n",
              "      <th>5</th>\n",
              "      <td>41483</td>\n",
              "      <td>0</td>\n",
              "      <td>2.0</td>\n",
              "      <td>71</td>\n",
              "      <td>289</td>\n",
              "      <td>1</td>\n",
              "      <td>3</td>\n",
              "      <td>0.0</td>\n",
              "      <td>2.0</td>\n",
              "      <td>1</td>\n",
              "      <td>66</td>\n",
              "      <td>4</td>\n",
              "      <td>1</td>\n",
              "      <td>1.14</td>\n",
              "    </tr>\n",
              "    <tr>\n",
              "      <th>6</th>\n",
              "      <td>41485</td>\n",
              "      <td>1</td>\n",
              "      <td>2.0</td>\n",
              "      <td>63</td>\n",
              "      <td>138</td>\n",
              "      <td>2</td>\n",
              "      <td>5</td>\n",
              "      <td>NaN</td>\n",
              "      <td>NaN</td>\n",
              "      <td>2</td>\n",
              "      <td>30</td>\n",
              "      <td>2</td>\n",
              "      <td>1</td>\n",
              "      <td>1.01</td>\n",
              "    </tr>\n",
              "    <tr>\n",
              "      <th>7</th>\n",
              "      <td>41486</td>\n",
              "      <td>0</td>\n",
              "      <td>2.0</td>\n",
              "      <td>64</td>\n",
              "      <td>187</td>\n",
              "      <td>2</td>\n",
              "      <td>3</td>\n",
              "      <td>NaN</td>\n",
              "      <td>NaN</td>\n",
              "      <td>2</td>\n",
              "      <td>61</td>\n",
              "      <td>1</td>\n",
              "      <td>1</td>\n",
              "      <td>1.75</td>\n",
              "    </tr>\n",
              "    <tr>\n",
              "      <th>8</th>\n",
              "      <td>41487</td>\n",
              "      <td>0</td>\n",
              "      <td>2.0</td>\n",
              "      <td>68</td>\n",
              "      <td>150</td>\n",
              "      <td>2</td>\n",
              "      <td>1</td>\n",
              "      <td>1.0</td>\n",
              "      <td>2.0</td>\n",
              "      <td>1</td>\n",
              "      <td>27</td>\n",
              "      <td>5</td>\n",
              "      <td>5</td>\n",
              "      <td>5.00</td>\n",
              "    </tr>\n",
              "    <tr>\n",
              "      <th>9</th>\n",
              "      <td>41489</td>\n",
              "      <td>0</td>\n",
              "      <td>2.0</td>\n",
              "      <td>63</td>\n",
              "      <td>200</td>\n",
              "      <td>2</td>\n",
              "      <td>3</td>\n",
              "      <td>3.0</td>\n",
              "      <td>2.0</td>\n",
              "      <td>2</td>\n",
              "      <td>40</td>\n",
              "      <td>3</td>\n",
              "      <td>1</td>\n",
              "      <td>2.15</td>\n",
              "    </tr>\n",
              "  </tbody>\n",
              "</table>\n",
              "</div>\n",
              "      <button class=\"colab-df-convert\" onclick=\"convertToInteractive('df-bf962873-8c38-4075-918d-dbfc80e7564d')\"\n",
              "              title=\"Convert this dataframe to an interactive table.\"\n",
              "              style=\"display:none;\">\n",
              "        \n",
              "  <svg xmlns=\"http://www.w3.org/2000/svg\" height=\"24px\"viewBox=\"0 0 24 24\"\n",
              "       width=\"24px\">\n",
              "    <path d=\"M0 0h24v24H0V0z\" fill=\"none\"/>\n",
              "    <path d=\"M18.56 5.44l.94 2.06.94-2.06 2.06-.94-2.06-.94-.94-2.06-.94 2.06-2.06.94zm-11 1L8.5 8.5l.94-2.06 2.06-.94-2.06-.94L8.5 2.5l-.94 2.06-2.06.94zm10 10l.94 2.06.94-2.06 2.06-.94-2.06-.94-.94-2.06-.94 2.06-2.06.94z\"/><path d=\"M17.41 7.96l-1.37-1.37c-.4-.4-.92-.59-1.43-.59-.52 0-1.04.2-1.43.59L10.3 9.45l-7.72 7.72c-.78.78-.78 2.05 0 2.83L4 21.41c.39.39.9.59 1.41.59.51 0 1.02-.2 1.41-.59l7.78-7.78 2.81-2.81c.8-.78.8-2.07 0-2.86zM5.41 20L4 18.59l7.72-7.72 1.47 1.35L5.41 20z\"/>\n",
              "  </svg>\n",
              "      </button>\n",
              "      \n",
              "  <style>\n",
              "    .colab-df-container {\n",
              "      display:flex;\n",
              "      flex-wrap:wrap;\n",
              "      gap: 12px;\n",
              "    }\n",
              "\n",
              "    .colab-df-convert {\n",
              "      background-color: #E8F0FE;\n",
              "      border: none;\n",
              "      border-radius: 50%;\n",
              "      cursor: pointer;\n",
              "      display: none;\n",
              "      fill: #1967D2;\n",
              "      height: 32px;\n",
              "      padding: 0 0 0 0;\n",
              "      width: 32px;\n",
              "    }\n",
              "\n",
              "    .colab-df-convert:hover {\n",
              "      background-color: #E2EBFA;\n",
              "      box-shadow: 0px 1px 2px rgba(60, 64, 67, 0.3), 0px 1px 3px 1px rgba(60, 64, 67, 0.15);\n",
              "      fill: #174EA6;\n",
              "    }\n",
              "\n",
              "    [theme=dark] .colab-df-convert {\n",
              "      background-color: #3B4455;\n",
              "      fill: #D2E3FC;\n",
              "    }\n",
              "\n",
              "    [theme=dark] .colab-df-convert:hover {\n",
              "      background-color: #434B5C;\n",
              "      box-shadow: 0px 1px 3px 1px rgba(0, 0, 0, 0.15);\n",
              "      filter: drop-shadow(0px 1px 2px rgba(0, 0, 0, 0.3));\n",
              "      fill: #FFFFFF;\n",
              "    }\n",
              "  </style>\n",
              "\n",
              "      <script>\n",
              "        const buttonEl =\n",
              "          document.querySelector('#df-bf962873-8c38-4075-918d-dbfc80e7564d button.colab-df-convert');\n",
              "        buttonEl.style.display =\n",
              "          google.colab.kernel.accessAllowed ? 'block' : 'none';\n",
              "\n",
              "        async function convertToInteractive(key) {\n",
              "          const element = document.querySelector('#df-bf962873-8c38-4075-918d-dbfc80e7564d');\n",
              "          const dataTable =\n",
              "            await google.colab.kernel.invokeFunction('convertToInteractive',\n",
              "                                                     [key], {});\n",
              "          if (!dataTable) return;\n",
              "\n",
              "          const docLinkHtml = 'Like what you see? Visit the ' +\n",
              "            '<a target=\"_blank\" href=https://colab.research.google.com/notebooks/data_table.ipynb>data table notebook</a>'\n",
              "            + ' to learn more about interactive tables.';\n",
              "          element.innerHTML = '';\n",
              "          dataTable['output_type'] = 'display_data';\n",
              "          await google.colab.output.renderOutput(dataTable, element);\n",
              "          const docLink = document.createElement('div');\n",
              "          docLink.innerHTML = docLinkHtml;\n",
              "          element.appendChild(docLink);\n",
              "        }\n",
              "      </script>\n",
              "    </div>\n",
              "  </div>\n",
              "  "
            ],
            "text/plain": [
              "   Person  depression  Used Drugs  height(in)  weight(pound)  has diabetes?  \\\n",
              "0   41475           0         2.0          62            308              2   \n",
              "1   41477           0         NaN          68            190              1   \n",
              "2   41479           0         2.0          67            142              2   \n",
              "3   41481           0         2.0          73            175              2   \n",
              "4   41482           1         9.0          68            228              2   \n",
              "5   41483           0         2.0          71            289              1   \n",
              "6   41485           1         2.0          63            138              2   \n",
              "7   41486           0         2.0          64            187              2   \n",
              "8   41487           0         2.0          68            150              2   \n",
              "9   41489           0         2.0          63            200              2   \n",
              "\n",
              "   #people in family  ALQ120Q  5_drinks_perday/ALQ150  Gender  Age  \\\n",
              "0                  2      0.0                     2.0       2   62   \n",
              "1                  2      0.0                     2.0       1   71   \n",
              "2                  5      3.0                     2.0       1   52   \n",
              "3                  4      3.0                     2.0       1   21   \n",
              "4                  6      1.0                     1.0       1   64   \n",
              "5                  3      0.0                     2.0       1   66   \n",
              "6                  5      NaN                     NaN       2   30   \n",
              "7                  3      NaN                     NaN       2   61   \n",
              "8                  1      1.0                     2.0       1   27   \n",
              "9                  3      3.0                     2.0       2   40   \n",
              "\n",
              "   Educationlevel  maritalStatus  INDFMPIR/Poverty threshold  \n",
              "0               3              1                        1.83  \n",
              "1               3              1                        1.50  \n",
              "2               1              1                        2.20  \n",
              "3               3              5                        1.63  \n",
              "4               2              1                        4.01  \n",
              "5               4              1                        1.14  \n",
              "6               2              1                        1.01  \n",
              "7               1              1                        1.75  \n",
              "8               5              5                        5.00  \n",
              "9               3              1                        2.15  "
            ]
          },
          "execution_count": 18,
          "metadata": {},
          "output_type": "execute_result"
        }
      ],
      "source": [
        "df = df.reset_index(drop=True)\n",
        "df.head(10)"
      ]
    },
    {
      "cell_type": "markdown",
      "metadata": {
        "id": "Bc7yWr8eCHRE"
      },
      "source": [
        "# Cleaning of 'Used Drugs' column.\n",
        "1. Drop rows with values 7,9,null\n",
        "2. Update the value 2 to 0"
      ]
    },
    {
      "cell_type": "code",
      "execution_count": 19,
      "metadata": {
        "id": "niLfGm5PBC59"
      },
      "outputs": [],
      "source": [
        "#dropping rows where Drugs consumed is equal to 7 or 9\n",
        "drugs_drop = df[(df['Used Drugs'] == 7) | (df['Used Drugs'] == 9) | df['Used Drugs'].isnull() ].index\n",
        "df.drop(drugs_drop , inplace=True)"
      ]
    },
    {
      "cell_type": "code",
      "execution_count": 20,
      "metadata": {
        "id": "o_NcQWcG9ard"
      },
      "outputs": [],
      "source": [
        "# select the rows where the column value is 2 and update it to 0\n",
        "df.loc[df['Used Drugs'] == 2, 'Used Drugs'] = 0"
      ]
    },
    {
      "cell_type": "code",
      "execution_count": 21,
      "metadata": {
        "colab": {
          "base_uri": "https://localhost:8080/"
        },
        "id": "gKf3-H7GAo3E",
        "outputId": "f7ce7926-5c3c-43c7-a0aa-55086fc1bcb3"
      },
      "outputs": [
        {
          "name": "stdout",
          "output_type": "stream",
          "text": [
            "0\n"
          ]
        }
      ],
      "source": [
        "\n",
        "#df.loc[(df['Used Drugs'] == 1) | (df['depression'] == 2) | (df['depression'] == 3), 'depression'] = 1\n",
        "null_values = df['Used Drugs'].isnull().sum()\n",
        "print(null_values)\n"
      ]
    },
    {
      "cell_type": "code",
      "execution_count": 22,
      "metadata": {
        "colab": {
          "base_uri": "https://localhost:8080/"
        },
        "id": "Rvk1U50HBj27",
        "outputId": "9c3db58b-82f9-40c9-bc0c-e60eb41a2440"
      },
      "outputs": [
        {
          "data": {
            "text/plain": [
              "(4590, 14)"
            ]
          },
          "execution_count": 22,
          "metadata": {},
          "output_type": "execute_result"
        }
      ],
      "source": [
        "df.shape"
      ]
    },
    {
      "cell_type": "markdown",
      "metadata": {
        "id": "FlyZ40sMDS3v"
      },
      "source": [
        "# Calculating BMI from height and weight columns\n",
        "\n",
        "BMI = Weight / (Height ** 2)\n",
        "\n",
        "Convert the Weight into Kg and Height into meters"
      ]
    },
    {
      "cell_type": "code",
      "execution_count": 23,
      "metadata": {
        "id": "fb1DCHZk2pr1"
      },
      "outputs": [],
      "source": [
        "#dropping rows where height and weigt are null or 0\n",
        "drop_records = df[df['height(in)'].isnull() | df['height(in)'] == 0].index\n",
        "df.drop(drop_records , inplace=True)\n",
        "\n",
        "drop_records = df[df['weight(pound)'].isnull()| df['weight(pound)'] == 0].index\n",
        "df.drop(drop_records , inplace=True)\n"
      ]
    },
    {
      "cell_type": "code",
      "execution_count": 24,
      "metadata": {
        "id": "xeER_FDNDsYP"
      },
      "outputs": [],
      "source": [
        "# convert height from inches to meters\n",
        "df['height_m'] = df['height(in)'] * 0.0254\n",
        "\n",
        "# convert weight from pounds to kilograms\n",
        "df['weight_kg'] = df['weight(pound)'] * 0.45359237"
      ]
    },
    {
      "cell_type": "code",
      "execution_count": 25,
      "metadata": {
        "id": "WRiue559Dx72"
      },
      "outputs": [],
      "source": [
        "# calculate the BMI\n",
        "df['BMI'] = df['weight_kg'] / (df['height_m'] ** 2)"
      ]
    },
    {
      "cell_type": "code",
      "execution_count": 26,
      "metadata": {
        "id": "3n03RgXzD7Tb"
      },
      "outputs": [],
      "source": [
        "# drop height and weight columns from data frame\n",
        "df = df.drop('height(in)', axis=1)\n",
        "df = df.drop('weight(pound)',axis=1)"
      ]
    },
    {
      "cell_type": "code",
      "execution_count": 27,
      "metadata": {
        "id": "P6UvQxRXESdH"
      },
      "outputs": [],
      "source": [
        "df = df.drop('height_m', axis=1)\n",
        "df = df.drop('weight_kg',axis=1)"
      ]
    },
    {
      "cell_type": "code",
      "execution_count": 28,
      "metadata": {
        "id": "akjGwiuc-e1d"
      },
      "outputs": [],
      "source": [
        "import seaborn as sns"
      ]
    },
    {
      "cell_type": "code",
      "execution_count": 29,
      "metadata": {
        "colab": {
          "base_uri": "https://localhost:8080/",
          "height": 351
        },
        "id": "9G7WakXI-iNZ",
        "outputId": "c1643475-9990-4a03-a11a-a5e41c5459c6"
      },
      "outputs": [
        {
          "name": "stderr",
          "output_type": "stream",
          "text": [
            "/usr/local/lib/python3.8/dist-packages/seaborn/distributions.py:2619: FutureWarning: `distplot` is a deprecated function and will be removed in a future version. Please adapt your code to use either `displot` (a figure-level function with similar flexibility) or `histplot` (an axes-level function for histograms).\n",
            "  warnings.warn(msg, FutureWarning)\n"
          ]
        },
        {
          "data": {
            "text/plain": [
              "<AxesSubplot:xlabel='BMI', ylabel='Density'>"
            ]
          },
          "execution_count": 29,
          "metadata": {},
          "output_type": "execute_result"
        },
        {
          "data": {
            "image/png": "[encoded data removed]",
            "text/plain": [
              "<Figure size 432x288 with 1 Axes>"
            ]
          },
          "metadata": {
            "needs_background": "light"
          },
          "output_type": "display_data"
        }
      ],
      "source": [
        "sns.distplot(df['BMI'])"
      ]
    },
    {
      "cell_type": "code",
      "execution_count": 30,
      "metadata": {
        "colab": {
          "base_uri": "https://localhost:8080/"
        },
        "id": "bdjKDuwt_Gn2",
        "outputId": "8490be41-73d5-4a50-ecf9-5fec181d3202"
      },
      "outputs": [
        {
          "data": {
            "text/plain": [
              "count    4494.000000\n",
              "mean       34.706702\n",
              "std       105.122199\n",
              "min         0.000584\n",
              "25%        23.932669\n",
              "50%        27.397229\n",
              "75%        31.647869\n",
              "max      2089.771916\n",
              "Name: BMI, dtype: float64"
            ]
          },
          "execution_count": 30,
          "metadata": {},
          "output_type": "execute_result"
        }
      ],
      "source": [
        "df['BMI'].describe()"
      ]
    },
    {
      "cell_type": "code",
      "execution_count": 31,
      "metadata": {
        "colab": {
          "base_uri": "https://localhost:8080/",
          "height": 351
        },
        "id": "Qfcm5sIK_U3Z",
        "outputId": "d936548f-e124-4784-a80d-9423fd185e80"
      },
      "outputs": [
        {
          "name": "stderr",
          "output_type": "stream",
          "text": [
            "/usr/local/lib/python3.8/dist-packages/seaborn/_decorators.py:36: FutureWarning: Pass the following variable as a keyword arg: x. From version 0.12, the only valid positional argument will be `data`, and passing other arguments without an explicit keyword will result in an error or misinterpretation.\n",
            "  warnings.warn(\n"
          ]
        },
        {
          "data": {
            "text/plain": [
              "<AxesSubplot:xlabel='BMI'>"
            ]
          },
          "execution_count": 31,
          "metadata": {},
          "output_type": "execute_result"
        },
        {
          "data": {
            "image/png": "[encoded data removed]",
            "text/plain": [
              "<Figure size 432x288 with 1 Axes>"
            ]
          },
          "metadata": {
            "needs_background": "light"
          },
          "output_type": "display_data"
        }
      ],
      "source": [
        "sns.boxplot(df['BMI'])"
      ]
    },
    {
      "cell_type": "code",
      "execution_count": 32,
      "metadata": {
        "id": "uM8H4bbY_qKv"
      },
      "outputs": [],
      "source": [
        "# calculate the IQR of 'column1'\n",
        "q1 = df['BMI'].quantile(0.25)\n",
        "q3 = df['BMI'].quantile(0.75)\n",
        "iqr = q3 - q1\n",
        "\n",
        "# identify outliers in 'column1'\n",
        "lower_bound = q1 - 1.5*iqr\n",
        "upper_bound = q3 + 1.5*iqr\n",
        "outliers = df.loc[(df['BMI'] < lower_bound) | (df['BMI'] > upper_bound)]\n"
      ]
    },
    {
      "cell_type": "code",
      "execution_count": 33,
      "metadata": {
        "id": "oB4-caTCBJVq"
      },
      "outputs": [],
      "source": [
        "df= df[(df['BMI'] < upper_bound) & (df['BMI'] > lower_bound)]"
      ]
    },
    {
      "cell_type": "code",
      "execution_count": 34,
      "metadata": {
        "colab": {
          "base_uri": "https://localhost:8080/",
          "height": 351
        },
        "id": "QNtvTN9nDTqZ",
        "outputId": "277f4aac-09ee-4df2-9767-8b00d10527ef"
      },
      "outputs": [
        {
          "name": "stderr",
          "output_type": "stream",
          "text": [
            "/usr/local/lib/python3.8/dist-packages/seaborn/_decorators.py:36: FutureWarning: Pass the following variable as a keyword arg: x. From version 0.12, the only valid positional argument will be `data`, and passing other arguments without an explicit keyword will result in an error or misinterpretation.\n",
            "  warnings.warn(\n"
          ]
        },
        {
          "data": {
            "text/plain": [
              "<AxesSubplot:xlabel='BMI'>"
            ]
          },
          "execution_count": 34,
          "metadata": {},
          "output_type": "execute_result"
        },
        {
          "data": {
            "image/png": "[encoded data removed]",
            "text/plain": [
              "<Figure size 432x288 with 1 Axes>"
            ]
          },
          "metadata": {
            "needs_background": "light"
          },
          "output_type": "display_data"
        }
      ],
      "source": [
        "sns.boxplot(df['BMI'])"
      ]
    },
    {
      "cell_type": "code",
      "execution_count": 35,
      "metadata": {
        "colab": {
          "base_uri": "https://localhost:8080/",
          "height": 351
        },
        "id": "8hJsVJxhDdvD",
        "outputId": "14df50e0-68d9-4ac8-dbac-1fe531540d8b"
      },
      "outputs": [
        {
          "name": "stderr",
          "output_type": "stream",
          "text": [
            "/usr/local/lib/python3.8/dist-packages/seaborn/distributions.py:2619: FutureWarning: `distplot` is a deprecated function and will be removed in a future version. Please adapt your code to use either `displot` (a figure-level function with similar flexibility) or `histplot` (an axes-level function for histograms).\n",
            "  warnings.warn(msg, FutureWarning)\n"
          ]
        },
        {
          "data": {
            "text/plain": [
              "<AxesSubplot:xlabel='BMI', ylabel='Density'>"
            ]
          },
          "execution_count": 35,
          "metadata": {},
          "output_type": "execute_result"
        },
        {
          "data": {
            "image/png": "[encoded data removed]",
            "text/plain": [
              "<Figure size 432x288 with 1 Axes>"
            ]
          },
          "metadata": {
            "needs_background": "light"
          },
          "output_type": "display_data"
        }
      ],
      "source": [
        "sns.distplot(df['BMI'])"
      ]
    },
    {
      "cell_type": "code",
      "execution_count": 36,
      "metadata": {
        "colab": {
          "base_uri": "https://localhost:8080/"
        },
        "id": "egbpzFsoDvyH",
        "outputId": "8723b351-13c8-4e02-f94b-a34512c6e4e2"
      },
      "outputs": [
        {
          "data": {
            "text/plain": [
              "(4292, 13)"
            ]
          },
          "execution_count": 36,
          "metadata": {},
          "output_type": "execute_result"
        }
      ],
      "source": [
        "df.shape\n"
      ]
    },
    {
      "cell_type": "code",
      "execution_count": 37,
      "metadata": {
        "colab": {
          "base_uri": "https://localhost:8080/",
          "height": 305
        },
        "id": "Tb5S_R_1EKJ-",
        "outputId": "2bd76886-adde-4e41-cb2a-f407205d1a33"
      },
      "outputs": [
        {
          "data": {
            "text/html": [
              "\n",
              "  <div id=\"df-4e256566-a36e-4d87-8343-d01f3c6b257c\">\n",
              "    <div class=\"colab-df-container\">\n",
              "      <div>\n",
              "<style scoped>\n",
              "    .dataframe tbody tr th:only-of-type {\n",
              "        vertical-align: middle;\n",
              "    }\n",
              "\n",
              "    .dataframe tbody tr th {\n",
              "        vertical-align: top;\n",
              "    }\n",
              "\n",
              "    .dataframe thead th {\n",
              "        text-align: right;\n",
              "    }\n",
              "</style>\n",
              "<table border=\"1\" class=\"dataframe\">\n",
              "  <thead>\n",
              "    <tr style=\"text-align: right;\">\n",
              "      <th></th>\n",
              "      <th>Person</th>\n",
              "      <th>depression</th>\n",
              "      <th>Used Drugs</th>\n",
              "      <th>has diabetes?</th>\n",
              "      <th>#people in family</th>\n",
              "      <th>ALQ120Q</th>\n",
              "      <th>5_drinks_perday/ALQ150</th>\n",
              "      <th>Gender</th>\n",
              "      <th>Age</th>\n",
              "      <th>Educationlevel</th>\n",
              "      <th>maritalStatus</th>\n",
              "      <th>INDFMPIR/Poverty threshold</th>\n",
              "      <th>BMI</th>\n",
              "    </tr>\n",
              "  </thead>\n",
              "  <tbody>\n",
              "    <tr>\n",
              "      <th>2</th>\n",
              "      <td>41479</td>\n",
              "      <td>0</td>\n",
              "      <td>0.0</td>\n",
              "      <td>2</td>\n",
              "      <td>5</td>\n",
              "      <td>3.0</td>\n",
              "      <td>2.0</td>\n",
              "      <td>1</td>\n",
              "      <td>52</td>\n",
              "      <td>1</td>\n",
              "      <td>1</td>\n",
              "      <td>2.20</td>\n",
              "      <td>22.240116</td>\n",
              "    </tr>\n",
              "    <tr>\n",
              "      <th>3</th>\n",
              "      <td>41481</td>\n",
              "      <td>0</td>\n",
              "      <td>0.0</td>\n",
              "      <td>2</td>\n",
              "      <td>4</td>\n",
              "      <td>3.0</td>\n",
              "      <td>2.0</td>\n",
              "      <td>1</td>\n",
              "      <td>21</td>\n",
              "      <td>3</td>\n",
              "      <td>5</td>\n",
              "      <td>1.63</td>\n",
              "      <td>23.088230</td>\n",
              "    </tr>\n",
              "    <tr>\n",
              "      <th>5</th>\n",
              "      <td>41483</td>\n",
              "      <td>0</td>\n",
              "      <td>0.0</td>\n",
              "      <td>1</td>\n",
              "      <td>3</td>\n",
              "      <td>0.0</td>\n",
              "      <td>2.0</td>\n",
              "      <td>1</td>\n",
              "      <td>66</td>\n",
              "      <td>4</td>\n",
              "      <td>1</td>\n",
              "      <td>1.14</td>\n",
              "      <td>40.306905</td>\n",
              "    </tr>\n",
              "    <tr>\n",
              "      <th>6</th>\n",
              "      <td>41485</td>\n",
              "      <td>1</td>\n",
              "      <td>0.0</td>\n",
              "      <td>2</td>\n",
              "      <td>5</td>\n",
              "      <td>NaN</td>\n",
              "      <td>NaN</td>\n",
              "      <td>2</td>\n",
              "      <td>30</td>\n",
              "      <td>2</td>\n",
              "      <td>1</td>\n",
              "      <td>1.01</td>\n",
              "      <td>24.445352</td>\n",
              "    </tr>\n",
              "    <tr>\n",
              "      <th>7</th>\n",
              "      <td>41486</td>\n",
              "      <td>0</td>\n",
              "      <td>0.0</td>\n",
              "      <td>2</td>\n",
              "      <td>3</td>\n",
              "      <td>NaN</td>\n",
              "      <td>NaN</td>\n",
              "      <td>2</td>\n",
              "      <td>61</td>\n",
              "      <td>1</td>\n",
              "      <td>1</td>\n",
              "      <td>1.75</td>\n",
              "      <td>32.098147</td>\n",
              "    </tr>\n",
              "  </tbody>\n",
              "</table>\n",
              "</div>\n",
              "      <button class=\"colab-df-convert\" onclick=\"convertToInteractive('df-4e256566-a36e-4d87-8343-d01f3c6b257c')\"\n",
              "              title=\"Convert this dataframe to an interactive table.\"\n",
              "              style=\"display:none;\">\n",
              "        \n",
              "  <svg xmlns=\"http://www.w3.org/2000/svg\" height=\"24px\"viewBox=\"0 0 24 24\"\n",
              "       width=\"24px\">\n",
              "    <path d=\"M0 0h24v24H0V0z\" fill=\"none\"/>\n",
              "    <path d=\"M18.56 5.44l.94 2.06.94-2.06 2.06-.94-2.06-.94-.94-2.06-.94 2.06-2.06.94zm-11 1L8.5 8.5l.94-2.06 2.06-.94-2.06-.94L8.5 2.5l-.94 2.06-2.06.94zm10 10l.94 2.06.94-2.06 2.06-.94-2.06-.94-.94-2.06-.94 2.06-2.06.94z\"/><path d=\"M17.41 7.96l-1.37-1.37c-.4-.4-.92-.59-1.43-.59-.52 0-1.04.2-1.43.59L10.3 9.45l-7.72 7.72c-.78.78-.78 2.05 0 2.83L4 21.41c.39.39.9.59 1.41.59.51 0 1.02-.2 1.41-.59l7.78-7.78 2.81-2.81c.8-.78.8-2.07 0-2.86zM5.41 20L4 18.59l7.72-7.72 1.47 1.35L5.41 20z\"/>\n",
              "  </svg>\n",
              "      </button>\n",
              "      \n",
              "  <style>\n",
              "    .colab-df-container {\n",
              "      display:flex;\n",
              "      flex-wrap:wrap;\n",
              "      gap: 12px;\n",
              "    }\n",
              "\n",
              "    .colab-df-convert {\n",
              "      background-color: #E8F0FE;\n",
              "      border: none;\n",
              "      border-radius: 50%;\n",
              "      cursor: pointer;\n",
              "      display: none;\n",
              "      fill: #1967D2;\n",
              "      height: 32px;\n",
              "      padding: 0 0 0 0;\n",
              "      width: 32px;\n",
              "    }\n",
              "\n",
              "    .colab-df-convert:hover {\n",
              "      background-color: #E2EBFA;\n",
              "      box-shadow: 0px 1px 2px rgba(60, 64, 67, 0.3), 0px 1px 3px 1px rgba(60, 64, 67, 0.15);\n",
              "      fill: #174EA6;\n",
              "    }\n",
              "\n",
              "    [theme=dark] .colab-df-convert {\n",
              "      background-color: #3B4455;\n",
              "      fill: #D2E3FC;\n",
              "    }\n",
              "\n",
              "    [theme=dark] .colab-df-convert:hover {\n",
              "      background-color: #434B5C;\n",
              "      box-shadow: 0px 1px 3px 1px rgba(0, 0, 0, 0.15);\n",
              "      filter: drop-shadow(0px 1px 2px rgba(0, 0, 0, 0.3));\n",
              "      fill: #FFFFFF;\n",
              "    }\n",
              "  </style>\n",
              "\n",
              "      <script>\n",
              "        const buttonEl =\n",
              "          document.querySelector('#df-4e256566-a36e-4d87-8343-d01f3c6b257c button.colab-df-convert');\n",
              "        buttonEl.style.display =\n",
              "          google.colab.kernel.accessAllowed ? 'block' : 'none';\n",
              "\n",
              "        async function convertToInteractive(key) {\n",
              "          const element = document.querySelector('#df-4e256566-a36e-4d87-8343-d01f3c6b257c');\n",
              "          const dataTable =\n",
              "            await google.colab.kernel.invokeFunction('convertToInteractive',\n",
              "                                                     [key], {});\n",
              "          if (!dataTable) return;\n",
              "\n",
              "          const docLinkHtml = 'Like what you see? Visit the ' +\n",
              "            '<a target=\"_blank\" href=https://colab.research.google.com/notebooks/data_table.ipynb>data table notebook</a>'\n",
              "            + ' to learn more about interactive tables.';\n",
              "          element.innerHTML = '';\n",
              "          dataTable['output_type'] = 'display_data';\n",
              "          await google.colab.output.renderOutput(dataTable, element);\n",
              "          const docLink = document.createElement('div');\n",
              "          docLink.innerHTML = docLinkHtml;\n",
              "          element.appendChild(docLink);\n",
              "        }\n",
              "      </script>\n",
              "    </div>\n",
              "  </div>\n",
              "  "
            ],
            "text/plain": [
              "   Person  depression  Used Drugs  has diabetes?  #people in family  ALQ120Q  \\\n",
              "2   41479           0         0.0              2                  5      3.0   \n",
              "3   41481           0         0.0              2                  4      3.0   \n",
              "5   41483           0         0.0              1                  3      0.0   \n",
              "6   41485           1         0.0              2                  5      NaN   \n",
              "7   41486           0         0.0              2                  3      NaN   \n",
              "\n",
              "   5_drinks_perday/ALQ150  Gender  Age  Educationlevel  maritalStatus  \\\n",
              "2                     2.0       1   52               1              1   \n",
              "3                     2.0       1   21               3              5   \n",
              "5                     2.0       1   66               4              1   \n",
              "6                     NaN       2   30               2              1   \n",
              "7                     NaN       2   61               1              1   \n",
              "\n",
              "   INDFMPIR/Poverty threshold        BMI  \n",
              "2                        2.20  22.240116  \n",
              "3                        1.63  23.088230  \n",
              "5                        1.14  40.306905  \n",
              "6                        1.01  24.445352  \n",
              "7                        1.75  32.098147  "
            ]
          },
          "execution_count": 37,
          "metadata": {},
          "output_type": "execute_result"
        }
      ],
      "source": [
        "df.head()"
      ]
    },
    {
      "cell_type": "markdown",
      "metadata": {
        "id": "OvrGj0USEk3p"
      },
      "source": [
        "# Cleaning of 'has diabetes?' column\n",
        "\n",
        "1. Update the value 3 as 1\n",
        "2. Remove rows with values 7 or 9\n",
        "3. Update the value 2 as 0\n",
        "4. Rename the column to 'isDiabetic'"
      ]
    },
    {
      "cell_type": "code",
      "execution_count": 38,
      "metadata": {
        "id": "Vzq_PxsvXnf2"
      },
      "outputs": [],
      "source": [
        "df.loc[(df['has diabetes?'] == 3) , 'has diabetes?'] = 1\n",
        "#dropping rows where value is equal to 7 or 9\n",
        "diabetes_drop = df[(df['has diabetes?'] == 7) | (df['has diabetes?'] == 9) | df['has diabetes?'].isnull() ].index\n",
        "df.drop(diabetes_drop , inplace=True)\n"
      ]
    },
    {
      "cell_type": "code",
      "execution_count": 39,
      "metadata": {
        "id": "OAFfNqnq98Gj"
      },
      "outputs": [],
      "source": [
        "# select the rows where the column value is 2 and update it to 0\n",
        "df.loc[df['has diabetes?'] == 2, 'has diabetes?'] = 0"
      ]
    },
    {
      "cell_type": "code",
      "execution_count": 40,
      "metadata": {
        "id": "_MLYNjZ5I3cE"
      },
      "outputs": [],
      "source": [
        "# Rename the column name to 'isDiabetic'\n",
        "df = df.rename(columns={'has diabetes?': 'isDiabetic'})"
      ]
    },
    {
      "cell_type": "code",
      "execution_count": 41,
      "metadata": {
        "colab": {
          "base_uri": "https://localhost:8080/",
          "height": 305
        },
        "id": "BJ6IM87FZKdQ",
        "outputId": "f31caa78-6e33-4811-9788-17910016c91d"
      },
      "outputs": [
        {
          "data": {
            "text/html": [
              "\n",
              "  <div id=\"df-79dbd6a5-2c65-4a7f-9a0d-5968d93ad911\">\n",
              "    <div class=\"colab-df-container\">\n",
              "      <div>\n",
              "<style scoped>\n",
              "    .dataframe tbody tr th:only-of-type {\n",
              "        vertical-align: middle;\n",
              "    }\n",
              "\n",
              "    .dataframe tbody tr th {\n",
              "        vertical-align: top;\n",
              "    }\n",
              "\n",
              "    .dataframe thead th {\n",
              "        text-align: right;\n",
              "    }\n",
              "</style>\n",
              "<table border=\"1\" class=\"dataframe\">\n",
              "  <thead>\n",
              "    <tr style=\"text-align: right;\">\n",
              "      <th></th>\n",
              "      <th>Person</th>\n",
              "      <th>depression</th>\n",
              "      <th>Used Drugs</th>\n",
              "      <th>isDiabetic</th>\n",
              "      <th>#people in family</th>\n",
              "      <th>ALQ120Q</th>\n",
              "      <th>5_drinks_perday/ALQ150</th>\n",
              "      <th>Gender</th>\n",
              "      <th>Age</th>\n",
              "      <th>Educationlevel</th>\n",
              "      <th>maritalStatus</th>\n",
              "      <th>INDFMPIR/Poverty threshold</th>\n",
              "      <th>BMI</th>\n",
              "    </tr>\n",
              "  </thead>\n",
              "  <tbody>\n",
              "    <tr>\n",
              "      <th>2</th>\n",
              "      <td>41479</td>\n",
              "      <td>0</td>\n",
              "      <td>0.0</td>\n",
              "      <td>0</td>\n",
              "      <td>5</td>\n",
              "      <td>3.0</td>\n",
              "      <td>2.0</td>\n",
              "      <td>1</td>\n",
              "      <td>52</td>\n",
              "      <td>1</td>\n",
              "      <td>1</td>\n",
              "      <td>2.20</td>\n",
              "      <td>22.240116</td>\n",
              "    </tr>\n",
              "    <tr>\n",
              "      <th>3</th>\n",
              "      <td>41481</td>\n",
              "      <td>0</td>\n",
              "      <td>0.0</td>\n",
              "      <td>0</td>\n",
              "      <td>4</td>\n",
              "      <td>3.0</td>\n",
              "      <td>2.0</td>\n",
              "      <td>1</td>\n",
              "      <td>21</td>\n",
              "      <td>3</td>\n",
              "      <td>5</td>\n",
              "      <td>1.63</td>\n",
              "      <td>23.088230</td>\n",
              "    </tr>\n",
              "    <tr>\n",
              "      <th>5</th>\n",
              "      <td>41483</td>\n",
              "      <td>0</td>\n",
              "      <td>0.0</td>\n",
              "      <td>1</td>\n",
              "      <td>3</td>\n",
              "      <td>0.0</td>\n",
              "      <td>2.0</td>\n",
              "      <td>1</td>\n",
              "      <td>66</td>\n",
              "      <td>4</td>\n",
              "      <td>1</td>\n",
              "      <td>1.14</td>\n",
              "      <td>40.306905</td>\n",
              "    </tr>\n",
              "    <tr>\n",
              "      <th>6</th>\n",
              "      <td>41485</td>\n",
              "      <td>1</td>\n",
              "      <td>0.0</td>\n",
              "      <td>0</td>\n",
              "      <td>5</td>\n",
              "      <td>NaN</td>\n",
              "      <td>NaN</td>\n",
              "      <td>2</td>\n",
              "      <td>30</td>\n",
              "      <td>2</td>\n",
              "      <td>1</td>\n",
              "      <td>1.01</td>\n",
              "      <td>24.445352</td>\n",
              "    </tr>\n",
              "    <tr>\n",
              "      <th>7</th>\n",
              "      <td>41486</td>\n",
              "      <td>0</td>\n",
              "      <td>0.0</td>\n",
              "      <td>0</td>\n",
              "      <td>3</td>\n",
              "      <td>NaN</td>\n",
              "      <td>NaN</td>\n",
              "      <td>2</td>\n",
              "      <td>61</td>\n",
              "      <td>1</td>\n",
              "      <td>1</td>\n",
              "      <td>1.75</td>\n",
              "      <td>32.098147</td>\n",
              "    </tr>\n",
              "  </tbody>\n",
              "</table>\n",
              "</div>\n",
              "      <button class=\"colab-df-convert\" onclick=\"convertToInteractive('df-79dbd6a5-2c65-4a7f-9a0d-5968d93ad911')\"\n",
              "              title=\"Convert this dataframe to an interactive table.\"\n",
              "              style=\"display:none;\">\n",
              "        \n",
              "  <svg xmlns=\"http://www.w3.org/2000/svg\" height=\"24px\"viewBox=\"0 0 24 24\"\n",
              "       width=\"24px\">\n",
              "    <path d=\"M0 0h24v24H0V0z\" fill=\"none\"/>\n",
              "    <path d=\"M18.56 5.44l.94 2.06.94-2.06 2.06-.94-2.06-.94-.94-2.06-.94 2.06-2.06.94zm-11 1L8.5 8.5l.94-2.06 2.06-.94-2.06-.94L8.5 2.5l-.94 2.06-2.06.94zm10 10l.94 2.06.94-2.06 2.06-.94-2.06-.94-.94-2.06-.94 2.06-2.06.94z\"/><path d=\"M17.41 7.96l-1.37-1.37c-.4-.4-.92-.59-1.43-.59-.52 0-1.04.2-1.43.59L10.3 9.45l-7.72 7.72c-.78.78-.78 2.05 0 2.83L4 21.41c.39.39.9.59 1.41.59.51 0 1.02-.2 1.41-.59l7.78-7.78 2.81-2.81c.8-.78.8-2.07 0-2.86zM5.41 20L4 18.59l7.72-7.72 1.47 1.35L5.41 20z\"/>\n",
              "  </svg>\n",
              "      </button>\n",
              "      \n",
              "  <style>\n",
              "    .colab-df-container {\n",
              "      display:flex;\n",
              "      flex-wrap:wrap;\n",
              "      gap: 12px;\n",
              "    }\n",
              "\n",
              "    .colab-df-convert {\n",
              "      background-color: #E8F0FE;\n",
              "      border: none;\n",
              "      border-radius: 50%;\n",
              "      cursor: pointer;\n",
              "      display: none;\n",
              "      fill: #1967D2;\n",
              "      height: 32px;\n",
              "      padding: 0 0 0 0;\n",
              "      width: 32px;\n",
              "    }\n",
              "\n",
              "    .colab-df-convert:hover {\n",
              "      background-color: #E2EBFA;\n",
              "      box-shadow: 0px 1px 2px rgba(60, 64, 67, 0.3), 0px 1px 3px 1px rgba(60, 64, 67, 0.15);\n",
              "      fill: #174EA6;\n",
              "    }\n",
              "\n",
              "    [theme=dark] .colab-df-convert {\n",
              "      background-color: #3B4455;\n",
              "      fill: #D2E3FC;\n",
              "    }\n",
              "\n",
              "    [theme=dark] .colab-df-convert:hover {\n",
              "      background-color: #434B5C;\n",
              "      box-shadow: 0px 1px 3px 1px rgba(0, 0, 0, 0.15);\n",
              "      filter: drop-shadow(0px 1px 2px rgba(0, 0, 0, 0.3));\n",
              "      fill: #FFFFFF;\n",
              "    }\n",
              "  </style>\n",
              "\n",
              "      <script>\n",
              "        const buttonEl =\n",
              "          document.querySelector('#df-79dbd6a5-2c65-4a7f-9a0d-5968d93ad911 button.colab-df-convert');\n",
              "        buttonEl.style.display =\n",
              "          google.colab.kernel.accessAllowed ? 'block' : 'none';\n",
              "\n",
              "        async function convertToInteractive(key) {\n",
              "          const element = document.querySelector('#df-79dbd6a5-2c65-4a7f-9a0d-5968d93ad911');\n",
              "          const dataTable =\n",
              "            await google.colab.kernel.invokeFunction('convertToInteractive',\n",
              "                                                     [key], {});\n",
              "          if (!dataTable) return;\n",
              "\n",
              "          const docLinkHtml = 'Like what you see? Visit the ' +\n",
              "            '<a target=\"_blank\" href=https://colab.research.google.com/notebooks/data_table.ipynb>data table notebook</a>'\n",
              "            + ' to learn more about interactive tables.';\n",
              "          element.innerHTML = '';\n",
              "          dataTable['output_type'] = 'display_data';\n",
              "          await google.colab.output.renderOutput(dataTable, element);\n",
              "          const docLink = document.createElement('div');\n",
              "          docLink.innerHTML = docLinkHtml;\n",
              "          element.appendChild(docLink);\n",
              "        }\n",
              "      </script>\n",
              "    </div>\n",
              "  </div>\n",
              "  "
            ],
            "text/plain": [
              "   Person  depression  Used Drugs  isDiabetic  #people in family  ALQ120Q  \\\n",
              "2   41479           0         0.0           0                  5      3.0   \n",
              "3   41481           0         0.0           0                  4      3.0   \n",
              "5   41483           0         0.0           1                  3      0.0   \n",
              "6   41485           1         0.0           0                  5      NaN   \n",
              "7   41486           0         0.0           0                  3      NaN   \n",
              "\n",
              "   5_drinks_perday/ALQ150  Gender  Age  Educationlevel  maritalStatus  \\\n",
              "2                     2.0       1   52               1              1   \n",
              "3                     2.0       1   21               3              5   \n",
              "5                     2.0       1   66               4              1   \n",
              "6                     NaN       2   30               2              1   \n",
              "7                     NaN       2   61               1              1   \n",
              "\n",
              "   INDFMPIR/Poverty threshold        BMI  \n",
              "2                        2.20  22.240116  \n",
              "3                        1.63  23.088230  \n",
              "5                        1.14  40.306905  \n",
              "6                        1.01  24.445352  \n",
              "7                        1.75  32.098147  "
            ]
          },
          "execution_count": 41,
          "metadata": {},
          "output_type": "execute_result"
        }
      ],
      "source": [
        "df.head()"
      ]
    },
    {
      "cell_type": "markdown",
      "metadata": {
        "id": "uISLXKMvGVxn"
      },
      "source": [
        "# Cleaning of 5_drinks_perday column\n",
        "\n",
        "Values: 1 - Yes, 2 - No\n",
        "\n",
        "1. Remove rows with values 7,9,null \n",
        "2. Update 2 as 0\n",
        "3. Rename the column name to \"isAlcoholic\"\n"
      ]
    },
    {
      "cell_type": "code",
      "execution_count": 42,
      "metadata": {
        "id": "tojm0A_MJS_B"
      },
      "outputs": [],
      "source": [
        "# Rename the column name to 'isAlcoholic'\n",
        "df = df.rename(columns={'5_drinks_perday/ALQ150': 'isAlcoholic'})"
      ]
    },
    {
      "cell_type": "code",
      "execution_count": 43,
      "metadata": {
        "id": "WczkBQ0Cf-z9"
      },
      "outputs": [],
      "source": [
        "#dropping rows where value is 7 or 9\n",
        "isAlcoholic_v = df[df['isAlcoholic'].isnull() | (df['isAlcoholic']==7) | (df['isAlcoholic']==9)].index\n",
        "df.drop(isAlcoholic_v , inplace=True)"
      ]
    },
    {
      "cell_type": "code",
      "execution_count": 44,
      "metadata": {
        "id": "P3wndL-3Hdek"
      },
      "outputs": [],
      "source": [
        "# select the rows where the column value is 2 and update it to 0\n",
        "df.loc[df['isAlcoholic'] == 2, 'isAlcoholic'] = 0"
      ]
    },
    {
      "cell_type": "code",
      "execution_count": 45,
      "metadata": {
        "colab": {
          "base_uri": "https://localhost:8080/",
          "height": 305
        },
        "id": "aThhcCMcgWRS",
        "outputId": "24eee05c-4d9c-4513-ff11-1565ef64da15"
      },
      "outputs": [
        {
          "data": {
            "text/html": [
              "\n",
              "  <div id=\"df-9d6658bc-07be-4c11-89a4-a7ecc2969049\">\n",
              "    <div class=\"colab-df-container\">\n",
              "      <div>\n",
              "<style scoped>\n",
              "    .dataframe tbody tr th:only-of-type {\n",
              "        vertical-align: middle;\n",
              "    }\n",
              "\n",
              "    .dataframe tbody tr th {\n",
              "        vertical-align: top;\n",
              "    }\n",
              "\n",
              "    .dataframe thead th {\n",
              "        text-align: right;\n",
              "    }\n",
              "</style>\n",
              "<table border=\"1\" class=\"dataframe\">\n",
              "  <thead>\n",
              "    <tr style=\"text-align: right;\">\n",
              "      <th></th>\n",
              "      <th>Person</th>\n",
              "      <th>depression</th>\n",
              "      <th>Used Drugs</th>\n",
              "      <th>isDiabetic</th>\n",
              "      <th>#people in family</th>\n",
              "      <th>ALQ120Q</th>\n",
              "      <th>isAlcoholic</th>\n",
              "      <th>Gender</th>\n",
              "      <th>Age</th>\n",
              "      <th>Educationlevel</th>\n",
              "      <th>maritalStatus</th>\n",
              "      <th>INDFMPIR/Poverty threshold</th>\n",
              "      <th>BMI</th>\n",
              "    </tr>\n",
              "  </thead>\n",
              "  <tbody>\n",
              "    <tr>\n",
              "      <th>0</th>\n",
              "      <td>41479</td>\n",
              "      <td>0</td>\n",
              "      <td>0.0</td>\n",
              "      <td>0</td>\n",
              "      <td>5</td>\n",
              "      <td>3.0</td>\n",
              "      <td>0.0</td>\n",
              "      <td>1</td>\n",
              "      <td>52</td>\n",
              "      <td>1</td>\n",
              "      <td>1</td>\n",
              "      <td>2.20</td>\n",
              "      <td>22.240116</td>\n",
              "    </tr>\n",
              "    <tr>\n",
              "      <th>1</th>\n",
              "      <td>41481</td>\n",
              "      <td>0</td>\n",
              "      <td>0.0</td>\n",
              "      <td>0</td>\n",
              "      <td>4</td>\n",
              "      <td>3.0</td>\n",
              "      <td>0.0</td>\n",
              "      <td>1</td>\n",
              "      <td>21</td>\n",
              "      <td>3</td>\n",
              "      <td>5</td>\n",
              "      <td>1.63</td>\n",
              "      <td>23.088230</td>\n",
              "    </tr>\n",
              "    <tr>\n",
              "      <th>2</th>\n",
              "      <td>41483</td>\n",
              "      <td>0</td>\n",
              "      <td>0.0</td>\n",
              "      <td>1</td>\n",
              "      <td>3</td>\n",
              "      <td>0.0</td>\n",
              "      <td>0.0</td>\n",
              "      <td>1</td>\n",
              "      <td>66</td>\n",
              "      <td>4</td>\n",
              "      <td>1</td>\n",
              "      <td>1.14</td>\n",
              "      <td>40.306905</td>\n",
              "    </tr>\n",
              "    <tr>\n",
              "      <th>3</th>\n",
              "      <td>41487</td>\n",
              "      <td>0</td>\n",
              "      <td>0.0</td>\n",
              "      <td>0</td>\n",
              "      <td>1</td>\n",
              "      <td>1.0</td>\n",
              "      <td>0.0</td>\n",
              "      <td>1</td>\n",
              "      <td>27</td>\n",
              "      <td>5</td>\n",
              "      <td>5</td>\n",
              "      <td>5.00</td>\n",
              "      <td>22.807188</td>\n",
              "    </tr>\n",
              "    <tr>\n",
              "      <th>4</th>\n",
              "      <td>41489</td>\n",
              "      <td>0</td>\n",
              "      <td>0.0</td>\n",
              "      <td>0</td>\n",
              "      <td>3</td>\n",
              "      <td>3.0</td>\n",
              "      <td>0.0</td>\n",
              "      <td>2</td>\n",
              "      <td>40</td>\n",
              "      <td>3</td>\n",
              "      <td>1</td>\n",
              "      <td>2.15</td>\n",
              "      <td>35.428046</td>\n",
              "    </tr>\n",
              "  </tbody>\n",
              "</table>\n",
              "</div>\n",
              "      <button class=\"colab-df-convert\" onclick=\"convertToInteractive('df-9d6658bc-07be-4c11-89a4-a7ecc2969049')\"\n",
              "              title=\"Convert this dataframe to an interactive table.\"\n",
              "              style=\"display:none;\">\n",
              "        \n",
              "  <svg xmlns=\"http://www.w3.org/2000/svg\" height=\"24px\"viewBox=\"0 0 24 24\"\n",
              "       width=\"24px\">\n",
              "    <path d=\"M0 0h24v24H0V0z\" fill=\"none\"/>\n",
              "    <path d=\"M18.56 5.44l.94 2.06.94-2.06 2.06-.94-2.06-.94-.94-2.06-.94 2.06-2.06.94zm-11 1L8.5 8.5l.94-2.06 2.06-.94-2.06-.94L8.5 2.5l-.94 2.06-2.06.94zm10 10l.94 2.06.94-2.06 2.06-.94-2.06-.94-.94-2.06-.94 2.06-2.06.94z\"/><path d=\"M17.41 7.96l-1.37-1.37c-.4-.4-.92-.59-1.43-.59-.52 0-1.04.2-1.43.59L10.3 9.45l-7.72 7.72c-.78.78-.78 2.05 0 2.83L4 21.41c.39.39.9.59 1.41.59.51 0 1.02-.2 1.41-.59l7.78-7.78 2.81-2.81c.8-.78.8-2.07 0-2.86zM5.41 20L4 18.59l7.72-7.72 1.47 1.35L5.41 20z\"/>\n",
              "  </svg>\n",
              "      </button>\n",
              "      \n",
              "  <style>\n",
              "    .colab-df-container {\n",
              "      display:flex;\n",
              "      flex-wrap:wrap;\n",
              "      gap: 12px;\n",
              "    }\n",
              "\n",
              "    .colab-df-convert {\n",
              "      background-color: #E8F0FE;\n",
              "      border: none;\n",
              "      border-radius: 50%;\n",
              "      cursor: pointer;\n",
              "      display: none;\n",
              "      fill: #1967D2;\n",
              "      height: 32px;\n",
              "      padding: 0 0 0 0;\n",
              "      width: 32px;\n",
              "    }\n",
              "\n",
              "    .colab-df-convert:hover {\n",
              "      background-color: #E2EBFA;\n",
              "      box-shadow: 0px 1px 2px rgba(60, 64, 67, 0.3), 0px 1px 3px 1px rgba(60, 64, 67, 0.15);\n",
              "      fill: #174EA6;\n",
              "    }\n",
              "\n",
              "    [theme=dark] .colab-df-convert {\n",
              "      background-color: #3B4455;\n",
              "      fill: #D2E3FC;\n",
              "    }\n",
              "\n",
              "    [theme=dark] .colab-df-convert:hover {\n",
              "      background-color: #434B5C;\n",
              "      box-shadow: 0px 1px 3px 1px rgba(0, 0, 0, 0.15);\n",
              "      filter: drop-shadow(0px 1px 2px rgba(0, 0, 0, 0.3));\n",
              "      fill: #FFFFFF;\n",
              "    }\n",
              "  </style>\n",
              "\n",
              "      <script>\n",
              "        const buttonEl =\n",
              "          document.querySelector('#df-9d6658bc-07be-4c11-89a4-a7ecc2969049 button.colab-df-convert');\n",
              "        buttonEl.style.display =\n",
              "          google.colab.kernel.accessAllowed ? 'block' : 'none';\n",
              "\n",
              "        async function convertToInteractive(key) {\n",
              "          const element = document.querySelector('#df-9d6658bc-07be-4c11-89a4-a7ecc2969049');\n",
              "          const dataTable =\n",
              "            await google.colab.kernel.invokeFunction('convertToInteractive',\n",
              "                                                     [key], {});\n",
              "          if (!dataTable) return;\n",
              "\n",
              "          const docLinkHtml = 'Like what you see? Visit the ' +\n",
              "            '<a target=\"_blank\" href=https://colab.research.google.com/notebooks/data_table.ipynb>data table notebook</a>'\n",
              "            + ' to learn more about interactive tables.';\n",
              "          element.innerHTML = '';\n",
              "          dataTable['output_type'] = 'display_data';\n",
              "          await google.colab.output.renderOutput(dataTable, element);\n",
              "          const docLink = document.createElement('div');\n",
              "          docLink.innerHTML = docLinkHtml;\n",
              "          element.appendChild(docLink);\n",
              "        }\n",
              "      </script>\n",
              "    </div>\n",
              "  </div>\n",
              "  "
            ],
            "text/plain": [
              "   Person  depression  Used Drugs  isDiabetic  #people in family  ALQ120Q  \\\n",
              "0   41479           0         0.0           0                  5      3.0   \n",
              "1   41481           0         0.0           0                  4      3.0   \n",
              "2   41483           0         0.0           1                  3      0.0   \n",
              "3   41487           0         0.0           0                  1      1.0   \n",
              "4   41489           0         0.0           0                  3      3.0   \n",
              "\n",
              "   isAlcoholic  Gender  Age  Educationlevel  maritalStatus  \\\n",
              "0          0.0       1   52               1              1   \n",
              "1          0.0       1   21               3              5   \n",
              "2          0.0       1   66               4              1   \n",
              "3          0.0       1   27               5              5   \n",
              "4          0.0       2   40               3              1   \n",
              "\n",
              "   INDFMPIR/Poverty threshold        BMI  \n",
              "0                        2.20  22.240116  \n",
              "1                        1.63  23.088230  \n",
              "2                        1.14  40.306905  \n",
              "3                        5.00  22.807188  \n",
              "4                        2.15  35.428046  "
            ]
          },
          "execution_count": 45,
          "metadata": {},
          "output_type": "execute_result"
        }
      ],
      "source": [
        "df = df.reset_index(drop=True)\n",
        "df.head()"
      ]
    },
    {
      "cell_type": "code",
      "execution_count": 46,
      "metadata": {
        "colab": {
          "base_uri": "https://localhost:8080/"
        },
        "id": "Hj60jVEDhkiB",
        "outputId": "d46c0904-e6a3-4812-a19d-2313259cc7b9"
      },
      "outputs": [
        {
          "data": {
            "text/plain": [
              "(3441, 13)"
            ]
          },
          "execution_count": 46,
          "metadata": {},
          "output_type": "execute_result"
        }
      ],
      "source": [
        "df.shape"
      ]
    },
    {
      "cell_type": "code",
      "execution_count": 47,
      "metadata": {
        "id": "VX40umDWLC2b"
      },
      "outputs": [],
      "source": [
        "# Dropping column ALQ120Q as it is not required\n",
        "df = df.drop('ALQ120Q',axis=1)"
      ]
    },
    {
      "cell_type": "markdown",
      "metadata": {
        "id": "Jgnjp_UjLcIg"
      },
      "source": [
        "# Cleaning EducationLevel column\n",
        "\n",
        "1. Renaming it to 'CompletedHighSchool'\n",
        "2. Setting values to 1 or 0 accordingly"
      ]
    },
    {
      "cell_type": "code",
      "execution_count": 48,
      "metadata": {
        "id": "JX5WvLiSij3e"
      },
      "outputs": [],
      "source": [
        "df=df.rename(columns={\"Educationlevel\": \"CompletedHighSchool\"})\n",
        "\n"
      ]
    },
    {
      "cell_type": "code",
      "execution_count": 49,
      "metadata": {
        "id": "aSlDTW7yi5PW"
      },
      "outputs": [],
      "source": [
        "df.loc[(df['CompletedHighSchool'] <= 2), 'CompletedHighSchool'] = 0\n",
        "df.loc[(df['CompletedHighSchool'] >= 3), 'CompletedHighSchool'] = 1\n",
        "\n"
      ]
    },
    {
      "cell_type": "code",
      "execution_count": 50,
      "metadata": {
        "colab": {
          "base_uri": "https://localhost:8080/",
          "height": 305
        },
        "id": "0IWc4jbuL-2y",
        "outputId": "aa2ca0c8-1985-4dda-933d-6cd2c6654741"
      },
      "outputs": [
        {
          "data": {
            "text/html": [
              "\n",
              "  <div id=\"df-a7b67eb5-aedc-43fd-8917-2b645c98e270\">\n",
              "    <div class=\"colab-df-container\">\n",
              "      <div>\n",
              "<style scoped>\n",
              "    .dataframe tbody tr th:only-of-type {\n",
              "        vertical-align: middle;\n",
              "    }\n",
              "\n",
              "    .dataframe tbody tr th {\n",
              "        vertical-align: top;\n",
              "    }\n",
              "\n",
              "    .dataframe thead th {\n",
              "        text-align: right;\n",
              "    }\n",
              "</style>\n",
              "<table border=\"1\" class=\"dataframe\">\n",
              "  <thead>\n",
              "    <tr style=\"text-align: right;\">\n",
              "      <th></th>\n",
              "      <th>Person</th>\n",
              "      <th>depression</th>\n",
              "      <th>Used Drugs</th>\n",
              "      <th>isDiabetic</th>\n",
              "      <th>#people in family</th>\n",
              "      <th>isAlcoholic</th>\n",
              "      <th>Gender</th>\n",
              "      <th>Age</th>\n",
              "      <th>CompletedHighSchool</th>\n",
              "      <th>maritalStatus</th>\n",
              "      <th>INDFMPIR/Poverty threshold</th>\n",
              "      <th>BMI</th>\n",
              "    </tr>\n",
              "  </thead>\n",
              "  <tbody>\n",
              "    <tr>\n",
              "      <th>0</th>\n",
              "      <td>41479</td>\n",
              "      <td>0</td>\n",
              "      <td>0.0</td>\n",
              "      <td>0</td>\n",
              "      <td>5</td>\n",
              "      <td>0.0</td>\n",
              "      <td>1</td>\n",
              "      <td>52</td>\n",
              "      <td>0</td>\n",
              "      <td>1</td>\n",
              "      <td>2.20</td>\n",
              "      <td>22.240116</td>\n",
              "    </tr>\n",
              "    <tr>\n",
              "      <th>1</th>\n",
              "      <td>41481</td>\n",
              "      <td>0</td>\n",
              "      <td>0.0</td>\n",
              "      <td>0</td>\n",
              "      <td>4</td>\n",
              "      <td>0.0</td>\n",
              "      <td>1</td>\n",
              "      <td>21</td>\n",
              "      <td>1</td>\n",
              "      <td>5</td>\n",
              "      <td>1.63</td>\n",
              "      <td>23.088230</td>\n",
              "    </tr>\n",
              "    <tr>\n",
              "      <th>2</th>\n",
              "      <td>41483</td>\n",
              "      <td>0</td>\n",
              "      <td>0.0</td>\n",
              "      <td>1</td>\n",
              "      <td>3</td>\n",
              "      <td>0.0</td>\n",
              "      <td>1</td>\n",
              "      <td>66</td>\n",
              "      <td>1</td>\n",
              "      <td>1</td>\n",
              "      <td>1.14</td>\n",
              "      <td>40.306905</td>\n",
              "    </tr>\n",
              "    <tr>\n",
              "      <th>3</th>\n",
              "      <td>41487</td>\n",
              "      <td>0</td>\n",
              "      <td>0.0</td>\n",
              "      <td>0</td>\n",
              "      <td>1</td>\n",
              "      <td>0.0</td>\n",
              "      <td>1</td>\n",
              "      <td>27</td>\n",
              "      <td>1</td>\n",
              "      <td>5</td>\n",
              "      <td>5.00</td>\n",
              "      <td>22.807188</td>\n",
              "    </tr>\n",
              "    <tr>\n",
              "      <th>4</th>\n",
              "      <td>41489</td>\n",
              "      <td>0</td>\n",
              "      <td>0.0</td>\n",
              "      <td>0</td>\n",
              "      <td>3</td>\n",
              "      <td>0.0</td>\n",
              "      <td>2</td>\n",
              "      <td>40</td>\n",
              "      <td>1</td>\n",
              "      <td>1</td>\n",
              "      <td>2.15</td>\n",
              "      <td>35.428046</td>\n",
              "    </tr>\n",
              "  </tbody>\n",
              "</table>\n",
              "</div>\n",
              "      <button class=\"colab-df-convert\" onclick=\"convertToInteractive('df-a7b67eb5-aedc-43fd-8917-2b645c98e270')\"\n",
              "              title=\"Convert this dataframe to an interactive table.\"\n",
              "              style=\"display:none;\">\n",
              "        \n",
              "  <svg xmlns=\"http://www.w3.org/2000/svg\" height=\"24px\"viewBox=\"0 0 24 24\"\n",
              "       width=\"24px\">\n",
              "    <path d=\"M0 0h24v24H0V0z\" fill=\"none\"/>\n",
              "    <path d=\"M18.56 5.44l.94 2.06.94-2.06 2.06-.94-2.06-.94-.94-2.06-.94 2.06-2.06.94zm-11 1L8.5 8.5l.94-2.06 2.06-.94-2.06-.94L8.5 2.5l-.94 2.06-2.06.94zm10 10l.94 2.06.94-2.06 2.06-.94-2.06-.94-.94-2.06-.94 2.06-2.06.94z\"/><path d=\"M17.41 7.96l-1.37-1.37c-.4-.4-.92-.59-1.43-.59-.52 0-1.04.2-1.43.59L10.3 9.45l-7.72 7.72c-.78.78-.78 2.05 0 2.83L4 21.41c.39.39.9.59 1.41.59.51 0 1.02-.2 1.41-.59l7.78-7.78 2.81-2.81c.8-.78.8-2.07 0-2.86zM5.41 20L4 18.59l7.72-7.72 1.47 1.35L5.41 20z\"/>\n",
              "  </svg>\n",
              "      </button>\n",
              "      \n",
              "  <style>\n",
              "    .colab-df-container {\n",
              "      display:flex;\n",
              "      flex-wrap:wrap;\n",
              "      gap: 12px;\n",
              "    }\n",
              "\n",
              "    .colab-df-convert {\n",
              "      background-color: #E8F0FE;\n",
              "      border: none;\n",
              "      border-radius: 50%;\n",
              "      cursor: pointer;\n",
              "      display: none;\n",
              "      fill: #1967D2;\n",
              "      height: 32px;\n",
              "      padding: 0 0 0 0;\n",
              "      width: 32px;\n",
              "    }\n",
              "\n",
              "    .colab-df-convert:hover {\n",
              "      background-color: #E2EBFA;\n",
              "      box-shadow: 0px 1px 2px rgba(60, 64, 67, 0.3), 0px 1px 3px 1px rgba(60, 64, 67, 0.15);\n",
              "      fill: #174EA6;\n",
              "    }\n",
              "\n",
              "    [theme=dark] .colab-df-convert {\n",
              "      background-color: #3B4455;\n",
              "      fill: #D2E3FC;\n",
              "    }\n",
              "\n",
              "    [theme=dark] .colab-df-convert:hover {\n",
              "      background-color: #434B5C;\n",
              "      box-shadow: 0px 1px 3px 1px rgba(0, 0, 0, 0.15);\n",
              "      filter: drop-shadow(0px 1px 2px rgba(0, 0, 0, 0.3));\n",
              "      fill: #FFFFFF;\n",
              "    }\n",
              "  </style>\n",
              "\n",
              "      <script>\n",
              "        const buttonEl =\n",
              "          document.querySelector('#df-a7b67eb5-aedc-43fd-8917-2b645c98e270 button.colab-df-convert');\n",
              "        buttonEl.style.display =\n",
              "          google.colab.kernel.accessAllowed ? 'block' : 'none';\n",
              "\n",
              "        async function convertToInteractive(key) {\n",
              "          const element = document.querySelector('#df-a7b67eb5-aedc-43fd-8917-2b645c98e270');\n",
              "          const dataTable =\n",
              "            await google.colab.kernel.invokeFunction('convertToInteractive',\n",
              "                                                     [key], {});\n",
              "          if (!dataTable) return;\n",
              "\n",
              "          const docLinkHtml = 'Like what you see? Visit the ' +\n",
              "            '<a target=\"_blank\" href=https://colab.research.google.com/notebooks/data_table.ipynb>data table notebook</a>'\n",
              "            + ' to learn more about interactive tables.';\n",
              "          element.innerHTML = '';\n",
              "          dataTable['output_type'] = 'display_data';\n",
              "          await google.colab.output.renderOutput(dataTable, element);\n",
              "          const docLink = document.createElement('div');\n",
              "          docLink.innerHTML = docLinkHtml;\n",
              "          element.appendChild(docLink);\n",
              "        }\n",
              "      </script>\n",
              "    </div>\n",
              "  </div>\n",
              "  "
            ],
            "text/plain": [
              "   Person  depression  Used Drugs  isDiabetic  #people in family  isAlcoholic  \\\n",
              "0   41479           0         0.0           0                  5          0.0   \n",
              "1   41481           0         0.0           0                  4          0.0   \n",
              "2   41483           0         0.0           1                  3          0.0   \n",
              "3   41487           0         0.0           0                  1          0.0   \n",
              "4   41489           0         0.0           0                  3          0.0   \n",
              "\n",
              "   Gender  Age  CompletedHighSchool  maritalStatus  \\\n",
              "0       1   52                    0              1   \n",
              "1       1   21                    1              5   \n",
              "2       1   66                    1              1   \n",
              "3       1   27                    1              5   \n",
              "4       2   40                    1              1   \n",
              "\n",
              "   INDFMPIR/Poverty threshold        BMI  \n",
              "0                        2.20  22.240116  \n",
              "1                        1.63  23.088230  \n",
              "2                        1.14  40.306905  \n",
              "3                        5.00  22.807188  \n",
              "4                        2.15  35.428046  "
            ]
          },
          "execution_count": 50,
          "metadata": {},
          "output_type": "execute_result"
        }
      ],
      "source": [
        "df.head()"
      ]
    },
    {
      "cell_type": "markdown",
      "metadata": {
        "id": "C4LkuHEyMFbr"
      },
      "source": [
        "# Cleaning maritalStatus column\n",
        "\n",
        "1. Drop rows with values 77 or 99\n",
        "2. Group 2, 3, 4 to 2 (widowed, seperated, Divorced)\n",
        "3. Group 5, 6 and update it to 0 (never married)"
      ]
    },
    {
      "cell_type": "code",
      "execution_count": 51,
      "metadata": {
        "id": "srgB9Cfvj7Xu"
      },
      "outputs": [],
      "source": [
        "#dropping rows where value is equal to 77 or 99\n",
        "marital_drop = df[ (df['maritalStatus'] == 99) | (df['maritalStatus'] == 77) | df['maritalStatus'].isnull() ].index\n",
        "df.drop(marital_drop , inplace=True)"
      ]
    },
    {
      "cell_type": "code",
      "execution_count": 52,
      "metadata": {
        "id": "_s1DKM9FNztd"
      },
      "outputs": [],
      "source": [
        "# Group 2, 3, 4 to 2\n",
        "df.loc[(df['maritalStatus'] == 3) | (df['maritalStatus'] == 4) , 'maritalStatus'] = 2\n",
        "\n",
        "# Group 5, 6 to 0 \n",
        "df.loc[(df['maritalStatus'] == 5) | (df['maritalStatus'] == 6) , 'maritalStatus'] = 0"
      ]
    },
    {
      "cell_type": "code",
      "execution_count": 53,
      "metadata": {
        "colab": {
          "base_uri": "https://localhost:8080/"
        },
        "id": "SFie2PDpkYcP",
        "outputId": "452b4932-40ad-4f4e-b6c2-1ced9a8be44e"
      },
      "outputs": [
        {
          "name": "stdout",
          "output_type": "stream",
          "text": [
            "[1 0 2]\n"
          ]
        }
      ],
      "source": [
        "print(df['maritalStatus'].unique())"
      ]
    },
    {
      "cell_type": "markdown",
      "metadata": {
        "id": "Sb70zztPWeDx"
      },
      "source": [
        "# Cleaning Family Size column \n",
        "\n",
        "1. Rename the column to familySize\n",
        "2. if value = 1 then Single\n",
        "      value = 2,3,4 then Small\n",
        "      value = 5,6,7 then Big"
      ]
    },
    {
      "cell_type": "code",
      "execution_count": 54,
      "metadata": {
        "colab": {
          "base_uri": "https://localhost:8080/"
        },
        "id": "MXGDM19EW8M5",
        "outputId": "a9847ed2-ae4b-41f5-fc22-75ea7dedf3c3"
      },
      "outputs": [
        {
          "name": "stdout",
          "output_type": "stream",
          "text": [
            "2    869\n",
            "1    669\n",
            "3    648\n",
            "4    581\n",
            "5    343\n",
            "6    172\n",
            "7    158\n",
            "Name: #people in family, dtype: int64\n"
          ]
        }
      ],
      "source": [
        "# get the count of distinct values in 'column1'\n",
        "distinct_count = df['#people in family'].value_counts()\n",
        "print(distinct_count)"
      ]
    },
    {
      "cell_type": "code",
      "execution_count": 55,
      "metadata": {
        "id": "jxhDaN96YAPR"
      },
      "outputs": [],
      "source": [
        "# df=df.rename(columns={\"#people in family\": \"familySize\"})"
      ]
    },
    {
      "cell_type": "code",
      "execution_count": 56,
      "metadata": {
        "id": "Rqcri9C1zG4J"
      },
      "outputs": [],
      "source": [
        "df['familySize'] = df['#people in family']"
      ]
    },
    {
      "cell_type": "code",
      "execution_count": 57,
      "metadata": {
        "id": "l6IrBD_gYIZk"
      },
      "outputs": [],
      "source": [
        "df.loc[df['familySize'] == 1, 'familySize'] = 'Single'"
      ]
    },
    {
      "cell_type": "code",
      "execution_count": 58,
      "metadata": {
        "id": "eErHuIDOYVVG"
      },
      "outputs": [],
      "source": [
        "df.loc[((df['familySize']) == 2) | ((df['familySize']) ==3) | ((df['familySize']) ==4), 'familySize'] = 'Small'"
      ]
    },
    {
      "cell_type": "code",
      "execution_count": 59,
      "metadata": {
        "id": "EdYjRdZnZpfH"
      },
      "outputs": [],
      "source": [
        "df.loc[((df['familySize']) == 5) | ((df['familySize']) ==6) | ((df['familySize']) ==7), 'familySize'] = 'Big'"
      ]
    },
    {
      "cell_type": "code",
      "execution_count": 60,
      "metadata": {
        "colab": {
          "base_uri": "https://localhost:8080/"
        },
        "id": "kc1xcn3vZ5qQ",
        "outputId": "75b54a93-331d-4bdf-81c3-f6d0f8585fd3"
      },
      "outputs": [
        {
          "name": "stdout",
          "output_type": "stream",
          "text": [
            "Small     2098\n",
            "Big        673\n",
            "Single     669\n",
            "Name: familySize, dtype: int64\n"
          ]
        }
      ],
      "source": [
        "# get the count of distinct values in 'column1'\n",
        "distinct_count = df['familySize'].value_counts()\n",
        "print(distinct_count)"
      ]
    },
    {
      "cell_type": "code",
      "execution_count": 61,
      "metadata": {
        "colab": {
          "base_uri": "https://localhost:8080/"
        },
        "id": "c5YTbvTROpjZ",
        "outputId": "dd08d285-c516-43a1-e8a5-71ceff3aa600"
      },
      "outputs": [
        {
          "data": {
            "text/plain": [
              "(3440, 13)"
            ]
          },
          "execution_count": 61,
          "metadata": {},
          "output_type": "execute_result"
        }
      ],
      "source": [
        "df.shape"
      ]
    },
    {
      "cell_type": "code",
      "execution_count": 62,
      "metadata": {
        "colab": {
          "base_uri": "https://localhost:8080/",
          "height": 305
        },
        "id": "JJqLUc65am2g",
        "outputId": "3103dea8-2660-4c5d-dd12-ca36796ee9b8"
      },
      "outputs": [
        {
          "data": {
            "text/html": [
              "\n",
              "  <div id=\"df-150dd46b-c3fd-4e36-8e26-47f714e86798\">\n",
              "    <div class=\"colab-df-container\">\n",
              "      <div>\n",
              "<style scoped>\n",
              "    .dataframe tbody tr th:only-of-type {\n",
              "        vertical-align: middle;\n",
              "    }\n",
              "\n",
              "    .dataframe tbody tr th {\n",
              "        vertical-align: top;\n",
              "    }\n",
              "\n",
              "    .dataframe thead th {\n",
              "        text-align: right;\n",
              "    }\n",
              "</style>\n",
              "<table border=\"1\" class=\"dataframe\">\n",
              "  <thead>\n",
              "    <tr style=\"text-align: right;\">\n",
              "      <th></th>\n",
              "      <th>Person</th>\n",
              "      <th>depression</th>\n",
              "      <th>Used Drugs</th>\n",
              "      <th>isDiabetic</th>\n",
              "      <th>#people in family</th>\n",
              "      <th>isAlcoholic</th>\n",
              "      <th>Gender</th>\n",
              "      <th>Age</th>\n",
              "      <th>CompletedHighSchool</th>\n",
              "      <th>maritalStatus</th>\n",
              "      <th>INDFMPIR/Poverty threshold</th>\n",
              "      <th>BMI</th>\n",
              "      <th>familySize</th>\n",
              "    </tr>\n",
              "  </thead>\n",
              "  <tbody>\n",
              "    <tr>\n",
              "      <th>0</th>\n",
              "      <td>41479</td>\n",
              "      <td>0</td>\n",
              "      <td>0.0</td>\n",
              "      <td>0</td>\n",
              "      <td>5</td>\n",
              "      <td>0.0</td>\n",
              "      <td>1</td>\n",
              "      <td>52</td>\n",
              "      <td>0</td>\n",
              "      <td>1</td>\n",
              "      <td>2.20</td>\n",
              "      <td>22.240116</td>\n",
              "      <td>Big</td>\n",
              "    </tr>\n",
              "    <tr>\n",
              "      <th>1</th>\n",
              "      <td>41481</td>\n",
              "      <td>0</td>\n",
              "      <td>0.0</td>\n",
              "      <td>0</td>\n",
              "      <td>4</td>\n",
              "      <td>0.0</td>\n",
              "      <td>1</td>\n",
              "      <td>21</td>\n",
              "      <td>1</td>\n",
              "      <td>0</td>\n",
              "      <td>1.63</td>\n",
              "      <td>23.088230</td>\n",
              "      <td>Small</td>\n",
              "    </tr>\n",
              "    <tr>\n",
              "      <th>2</th>\n",
              "      <td>41483</td>\n",
              "      <td>0</td>\n",
              "      <td>0.0</td>\n",
              "      <td>1</td>\n",
              "      <td>3</td>\n",
              "      <td>0.0</td>\n",
              "      <td>1</td>\n",
              "      <td>66</td>\n",
              "      <td>1</td>\n",
              "      <td>1</td>\n",
              "      <td>1.14</td>\n",
              "      <td>40.306905</td>\n",
              "      <td>Small</td>\n",
              "    </tr>\n",
              "    <tr>\n",
              "      <th>3</th>\n",
              "      <td>41487</td>\n",
              "      <td>0</td>\n",
              "      <td>0.0</td>\n",
              "      <td>0</td>\n",
              "      <td>1</td>\n",
              "      <td>0.0</td>\n",
              "      <td>1</td>\n",
              "      <td>27</td>\n",
              "      <td>1</td>\n",
              "      <td>0</td>\n",
              "      <td>5.00</td>\n",
              "      <td>22.807188</td>\n",
              "      <td>Single</td>\n",
              "    </tr>\n",
              "    <tr>\n",
              "      <th>4</th>\n",
              "      <td>41489</td>\n",
              "      <td>0</td>\n",
              "      <td>0.0</td>\n",
              "      <td>0</td>\n",
              "      <td>3</td>\n",
              "      <td>0.0</td>\n",
              "      <td>2</td>\n",
              "      <td>40</td>\n",
              "      <td>1</td>\n",
              "      <td>1</td>\n",
              "      <td>2.15</td>\n",
              "      <td>35.428046</td>\n",
              "      <td>Small</td>\n",
              "    </tr>\n",
              "  </tbody>\n",
              "</table>\n",
              "</div>\n",
              "      <button class=\"colab-df-convert\" onclick=\"convertToInteractive('df-150dd46b-c3fd-4e36-8e26-47f714e86798')\"\n",
              "              title=\"Convert this dataframe to an interactive table.\"\n",
              "              style=\"display:none;\">\n",
              "        \n",
              "  <svg xmlns=\"http://www.w3.org/2000/svg\" height=\"24px\"viewBox=\"0 0 24 24\"\n",
              "       width=\"24px\">\n",
              "    <path d=\"M0 0h24v24H0V0z\" fill=\"none\"/>\n",
              "    <path d=\"M18.56 5.44l.94 2.06.94-2.06 2.06-.94-2.06-.94-.94-2.06-.94 2.06-2.06.94zm-11 1L8.5 8.5l.94-2.06 2.06-.94-2.06-.94L8.5 2.5l-.94 2.06-2.06.94zm10 10l.94 2.06.94-2.06 2.06-.94-2.06-.94-.94-2.06-.94 2.06-2.06.94z\"/><path d=\"M17.41 7.96l-1.37-1.37c-.4-.4-.92-.59-1.43-.59-.52 0-1.04.2-1.43.59L10.3 9.45l-7.72 7.72c-.78.78-.78 2.05 0 2.83L4 21.41c.39.39.9.59 1.41.59.51 0 1.02-.2 1.41-.59l7.78-7.78 2.81-2.81c.8-.78.8-2.07 0-2.86zM5.41 20L4 18.59l7.72-7.72 1.47 1.35L5.41 20z\"/>\n",
              "  </svg>\n",
              "      </button>\n",
              "      \n",
              "  <style>\n",
              "    .colab-df-container {\n",
              "      display:flex;\n",
              "      flex-wrap:wrap;\n",
              "      gap: 12px;\n",
              "    }\n",
              "\n",
              "    .colab-df-convert {\n",
              "      background-color: #E8F0FE;\n",
              "      border: none;\n",
              "      border-radius: 50%;\n",
              "      cursor: pointer;\n",
              "      display: none;\n",
              "      fill: #1967D2;\n",
              "      height: 32px;\n",
              "      padding: 0 0 0 0;\n",
              "      width: 32px;\n",
              "    }\n",
              "\n",
              "    .colab-df-convert:hover {\n",
              "      background-color: #E2EBFA;\n",
              "      box-shadow: 0px 1px 2px rgba(60, 64, 67, 0.3), 0px 1px 3px 1px rgba(60, 64, 67, 0.15);\n",
              "      fill: #174EA6;\n",
              "    }\n",
              "\n",
              "    [theme=dark] .colab-df-convert {\n",
              "      background-color: #3B4455;\n",
              "      fill: #D2E3FC;\n",
              "    }\n",
              "\n",
              "    [theme=dark] .colab-df-convert:hover {\n",
              "      background-color: #434B5C;\n",
              "      box-shadow: 0px 1px 3px 1px rgba(0, 0, 0, 0.15);\n",
              "      filter: drop-shadow(0px 1px 2px rgba(0, 0, 0, 0.3));\n",
              "      fill: #FFFFFF;\n",
              "    }\n",
              "  </style>\n",
              "\n",
              "      <script>\n",
              "        const buttonEl =\n",
              "          document.querySelector('#df-150dd46b-c3fd-4e36-8e26-47f714e86798 button.colab-df-convert');\n",
              "        buttonEl.style.display =\n",
              "          google.colab.kernel.accessAllowed ? 'block' : 'none';\n",
              "\n",
              "        async function convertToInteractive(key) {\n",
              "          const element = document.querySelector('#df-150dd46b-c3fd-4e36-8e26-47f714e86798');\n",
              "          const dataTable =\n",
              "            await google.colab.kernel.invokeFunction('convertToInteractive',\n",
              "                                                     [key], {});\n",
              "          if (!dataTable) return;\n",
              "\n",
              "          const docLinkHtml = 'Like what you see? Visit the ' +\n",
              "            '<a target=\"_blank\" href=https://colab.research.google.com/notebooks/data_table.ipynb>data table notebook</a>'\n",
              "            + ' to learn more about interactive tables.';\n",
              "          element.innerHTML = '';\n",
              "          dataTable['output_type'] = 'display_data';\n",
              "          await google.colab.output.renderOutput(dataTable, element);\n",
              "          const docLink = document.createElement('div');\n",
              "          docLink.innerHTML = docLinkHtml;\n",
              "          element.appendChild(docLink);\n",
              "        }\n",
              "      </script>\n",
              "    </div>\n",
              "  </div>\n",
              "  "
            ],
            "text/plain": [
              "   Person  depression  Used Drugs  isDiabetic  #people in family  isAlcoholic  \\\n",
              "0   41479           0         0.0           0                  5          0.0   \n",
              "1   41481           0         0.0           0                  4          0.0   \n",
              "2   41483           0         0.0           1                  3          0.0   \n",
              "3   41487           0         0.0           0                  1          0.0   \n",
              "4   41489           0         0.0           0                  3          0.0   \n",
              "\n",
              "   Gender  Age  CompletedHighSchool  maritalStatus  \\\n",
              "0       1   52                    0              1   \n",
              "1       1   21                    1              0   \n",
              "2       1   66                    1              1   \n",
              "3       1   27                    1              0   \n",
              "4       2   40                    1              1   \n",
              "\n",
              "   INDFMPIR/Poverty threshold        BMI familySize  \n",
              "0                        2.20  22.240116        Big  \n",
              "1                        1.63  23.088230      Small  \n",
              "2                        1.14  40.306905      Small  \n",
              "3                        5.00  22.807188     Single  \n",
              "4                        2.15  35.428046      Small  "
            ]
          },
          "execution_count": 62,
          "metadata": {},
          "output_type": "execute_result"
        }
      ],
      "source": [
        "df.head()"
      ]
    },
    {
      "cell_type": "markdown",
      "metadata": {
        "id": "eRNgw_CTKUOL"
      },
      "source": [
        "# Cleaning poverty threshold column and creating a new column based on it\n",
        "\n",
        "1. Create a new column 'finStatus' based on poverty threshold column"
      ]
    },
    {
      "cell_type": "code",
      "execution_count": 63,
      "metadata": {
        "id": "1HG68gztk4nJ"
      },
      "outputs": [],
      "source": [
        "# Renaming column INDFMPIR/Poverty threshold to povertyThreshold\n",
        "\n",
        "df=df.rename(columns={\"INDFMPIR/Poverty threshold\": \"povertyThreshold\"})"
      ]
    },
    {
      "cell_type": "code",
      "execution_count": 64,
      "metadata": {
        "colab": {
          "base_uri": "https://localhost:8080/"
        },
        "id": "97PiyD11GArh",
        "outputId": "15c44b39-337d-4cff-b9de-4e1e20450f35"
      },
      "outputs": [
        {
          "data": {
            "text/plain": [
              "count    3183.000000\n",
              "mean        2.690440\n",
              "std         1.675414\n",
              "min         0.000000\n",
              "25%         1.180000\n",
              "50%         2.350000\n",
              "75%         4.640000\n",
              "max         5.000000\n",
              "Name: povertyThreshold, dtype: float64"
            ]
          },
          "execution_count": 64,
          "metadata": {},
          "output_type": "execute_result"
        }
      ],
      "source": [
        "df['povertyThreshold'].describe()"
      ]
    },
    {
      "cell_type": "code",
      "execution_count": 65,
      "metadata": {
        "colab": {
          "base_uri": "https://localhost:8080/",
          "height": 296
        },
        "id": "SIAkHypQlK1a",
        "outputId": "63ff6e03-fa71-467a-c827-bb5dfa202e55"
      },
      "outputs": [
        {
          "data": {
            "text/plain": [
              "<AxesSubplot:xlabel='povertyThreshold'>"
            ]
          },
          "execution_count": 65,
          "metadata": {},
          "output_type": "execute_result"
        },
        {
          "data": {
            "image/png": "[encoded data removed]",
            "text/plain": [
              "<Figure size 432x288 with 1 Axes>"
            ]
          },
          "metadata": {
            "needs_background": "light"
          },
          "output_type": "display_data"
        }
      ],
      "source": [
        "sns.boxplot(x=df['povertyThreshold'])"
      ]
    },
    {
      "cell_type": "code",
      "execution_count": 66,
      "metadata": {
        "id": "kxZ2F9GFHozu"
      },
      "outputs": [],
      "source": [
        "# define a function to categorize the financial status of an individual\n",
        "def categorize_finStatus(value):\n",
        "    if  value <= 2:\n",
        "        return 'Poor'\n",
        "    elif value > 2 and value < 4:\n",
        "        return 'Middle class'\n",
        "    elif value >= 4 and value <= 5:\n",
        "        return 'Rich'\n",
        "    else:\n",
        "        return None"
      ]
    },
    {
      "cell_type": "code",
      "execution_count": 67,
      "metadata": {
        "id": "EtLZUghoH5yg"
      },
      "outputs": [],
      "source": [
        "# apply the categorize function to the 'values' column of the dataframe\n",
        "df['finStatus'] = df['povertyThreshold'].apply(categorize_finStatus)\n"
      ]
    },
    {
      "cell_type": "code",
      "execution_count": 68,
      "metadata": {
        "colab": {
          "base_uri": "https://localhost:8080/"
        },
        "id": "-06JmdRKINoz",
        "outputId": "b8559dc3-cb43-405e-bfe1-d1c25774c11c"
      },
      "outputs": [
        {
          "name": "stdout",
          "output_type": "stream",
          "text": [
            "Poor            1415\n",
            "Rich             980\n",
            "Middle class     788\n",
            "Name: finStatus, dtype: int64\n"
          ]
        }
      ],
      "source": [
        "distinct_count = df['finStatus'].value_counts()\n",
        "print(distinct_count)"
      ]
    },
    {
      "cell_type": "code",
      "execution_count": 69,
      "metadata": {
        "colab": {
          "base_uri": "https://localhost:8080/",
          "height": 339
        },
        "id": "rbL7N1CGLcM1",
        "outputId": "ea1121fe-b31c-465d-9ab9-30b163f36dcd"
      },
      "outputs": [
        {
          "data": {
            "text/html": [
              "\n",
              "  <div id=\"df-a43e3c12-a4ec-4ded-a2b3-63fddcf27f54\">\n",
              "    <div class=\"colab-df-container\">\n",
              "      <div>\n",
              "<style scoped>\n",
              "    .dataframe tbody tr th:only-of-type {\n",
              "        vertical-align: middle;\n",
              "    }\n",
              "\n",
              "    .dataframe tbody tr th {\n",
              "        vertical-align: top;\n",
              "    }\n",
              "\n",
              "    .dataframe thead th {\n",
              "        text-align: right;\n",
              "    }\n",
              "</style>\n",
              "<table border=\"1\" class=\"dataframe\">\n",
              "  <thead>\n",
              "    <tr style=\"text-align: right;\">\n",
              "      <th></th>\n",
              "      <th>Person</th>\n",
              "      <th>depression</th>\n",
              "      <th>Used Drugs</th>\n",
              "      <th>isDiabetic</th>\n",
              "      <th>#people in family</th>\n",
              "      <th>isAlcoholic</th>\n",
              "      <th>Gender</th>\n",
              "      <th>Age</th>\n",
              "      <th>CompletedHighSchool</th>\n",
              "      <th>maritalStatus</th>\n",
              "      <th>povertyThreshold</th>\n",
              "      <th>BMI</th>\n",
              "      <th>familySize</th>\n",
              "      <th>finStatus</th>\n",
              "    </tr>\n",
              "  </thead>\n",
              "  <tbody>\n",
              "    <tr>\n",
              "      <th>0</th>\n",
              "      <td>41479</td>\n",
              "      <td>0</td>\n",
              "      <td>0.0</td>\n",
              "      <td>0</td>\n",
              "      <td>5</td>\n",
              "      <td>0.0</td>\n",
              "      <td>1</td>\n",
              "      <td>52</td>\n",
              "      <td>0</td>\n",
              "      <td>1</td>\n",
              "      <td>2.20</td>\n",
              "      <td>22.240116</td>\n",
              "      <td>Big</td>\n",
              "      <td>Middle class</td>\n",
              "    </tr>\n",
              "    <tr>\n",
              "      <th>1</th>\n",
              "      <td>41481</td>\n",
              "      <td>0</td>\n",
              "      <td>0.0</td>\n",
              "      <td>0</td>\n",
              "      <td>4</td>\n",
              "      <td>0.0</td>\n",
              "      <td>1</td>\n",
              "      <td>21</td>\n",
              "      <td>1</td>\n",
              "      <td>0</td>\n",
              "      <td>1.63</td>\n",
              "      <td>23.088230</td>\n",
              "      <td>Small</td>\n",
              "      <td>Poor</td>\n",
              "    </tr>\n",
              "    <tr>\n",
              "      <th>2</th>\n",
              "      <td>41483</td>\n",
              "      <td>0</td>\n",
              "      <td>0.0</td>\n",
              "      <td>1</td>\n",
              "      <td>3</td>\n",
              "      <td>0.0</td>\n",
              "      <td>1</td>\n",
              "      <td>66</td>\n",
              "      <td>1</td>\n",
              "      <td>1</td>\n",
              "      <td>1.14</td>\n",
              "      <td>40.306905</td>\n",
              "      <td>Small</td>\n",
              "      <td>Poor</td>\n",
              "    </tr>\n",
              "    <tr>\n",
              "      <th>3</th>\n",
              "      <td>41487</td>\n",
              "      <td>0</td>\n",
              "      <td>0.0</td>\n",
              "      <td>0</td>\n",
              "      <td>1</td>\n",
              "      <td>0.0</td>\n",
              "      <td>1</td>\n",
              "      <td>27</td>\n",
              "      <td>1</td>\n",
              "      <td>0</td>\n",
              "      <td>5.00</td>\n",
              "      <td>22.807188</td>\n",
              "      <td>Single</td>\n",
              "      <td>Rich</td>\n",
              "    </tr>\n",
              "    <tr>\n",
              "      <th>4</th>\n",
              "      <td>41489</td>\n",
              "      <td>0</td>\n",
              "      <td>0.0</td>\n",
              "      <td>0</td>\n",
              "      <td>3</td>\n",
              "      <td>0.0</td>\n",
              "      <td>2</td>\n",
              "      <td>40</td>\n",
              "      <td>1</td>\n",
              "      <td>1</td>\n",
              "      <td>2.15</td>\n",
              "      <td>35.428046</td>\n",
              "      <td>Small</td>\n",
              "      <td>Middle class</td>\n",
              "    </tr>\n",
              "  </tbody>\n",
              "</table>\n",
              "</div>\n",
              "      <button class=\"colab-df-convert\" onclick=\"convertToInteractive('df-a43e3c12-a4ec-4ded-a2b3-63fddcf27f54')\"\n",
              "              title=\"Convert this dataframe to an interactive table.\"\n",
              "              style=\"display:none;\">\n",
              "        \n",
              "  <svg xmlns=\"http://www.w3.org/2000/svg\" height=\"24px\"viewBox=\"0 0 24 24\"\n",
              "       width=\"24px\">\n",
              "    <path d=\"M0 0h24v24H0V0z\" fill=\"none\"/>\n",
              "    <path d=\"M18.56 5.44l.94 2.06.94-2.06 2.06-.94-2.06-.94-.94-2.06-.94 2.06-2.06.94zm-11 1L8.5 8.5l.94-2.06 2.06-.94-2.06-.94L8.5 2.5l-.94 2.06-2.06.94zm10 10l.94 2.06.94-2.06 2.06-.94-2.06-.94-.94-2.06-.94 2.06-2.06.94z\"/><path d=\"M17.41 7.96l-1.37-1.37c-.4-.4-.92-.59-1.43-.59-.52 0-1.04.2-1.43.59L10.3 9.45l-7.72 7.72c-.78.78-.78 2.05 0 2.83L4 21.41c.39.39.9.59 1.41.59.51 0 1.02-.2 1.41-.59l7.78-7.78 2.81-2.81c.8-.78.8-2.07 0-2.86zM5.41 20L4 18.59l7.72-7.72 1.47 1.35L5.41 20z\"/>\n",
              "  </svg>\n",
              "      </button>\n",
              "      \n",
              "  <style>\n",
              "    .colab-df-container {\n",
              "      display:flex;\n",
              "      flex-wrap:wrap;\n",
              "      gap: 12px;\n",
              "    }\n",
              "\n",
              "    .colab-df-convert {\n",
              "      background-color: #E8F0FE;\n",
              "      border: none;\n",
              "      border-radius: 50%;\n",
              "      cursor: pointer;\n",
              "      display: none;\n",
              "      fill: #1967D2;\n",
              "      height: 32px;\n",
              "      padding: 0 0 0 0;\n",
              "      width: 32px;\n",
              "    }\n",
              "\n",
              "    .colab-df-convert:hover {\n",
              "      background-color: #E2EBFA;\n",
              "      box-shadow: 0px 1px 2px rgba(60, 64, 67, 0.3), 0px 1px 3px 1px rgba(60, 64, 67, 0.15);\n",
              "      fill: #174EA6;\n",
              "    }\n",
              "\n",
              "    [theme=dark] .colab-df-convert {\n",
              "      background-color: #3B4455;\n",
              "      fill: #D2E3FC;\n",
              "    }\n",
              "\n",
              "    [theme=dark] .colab-df-convert:hover {\n",
              "      background-color: #434B5C;\n",
              "      box-shadow: 0px 1px 3px 1px rgba(0, 0, 0, 0.15);\n",
              "      filter: drop-shadow(0px 1px 2px rgba(0, 0, 0, 0.3));\n",
              "      fill: #FFFFFF;\n",
              "    }\n",
              "  </style>\n",
              "\n",
              "      <script>\n",
              "        const buttonEl =\n",
              "          document.querySelector('#df-a43e3c12-a4ec-4ded-a2b3-63fddcf27f54 button.colab-df-convert');\n",
              "        buttonEl.style.display =\n",
              "          google.colab.kernel.accessAllowed ? 'block' : 'none';\n",
              "\n",
              "        async function convertToInteractive(key) {\n",
              "          const element = document.querySelector('#df-a43e3c12-a4ec-4ded-a2b3-63fddcf27f54');\n",
              "          const dataTable =\n",
              "            await google.colab.kernel.invokeFunction('convertToInteractive',\n",
              "                                                     [key], {});\n",
              "          if (!dataTable) return;\n",
              "\n",
              "          const docLinkHtml = 'Like what you see? Visit the ' +\n",
              "            '<a target=\"_blank\" href=https://colab.research.google.com/notebooks/data_table.ipynb>data table notebook</a>'\n",
              "            + ' to learn more about interactive tables.';\n",
              "          element.innerHTML = '';\n",
              "          dataTable['output_type'] = 'display_data';\n",
              "          await google.colab.output.renderOutput(dataTable, element);\n",
              "          const docLink = document.createElement('div');\n",
              "          docLink.innerHTML = docLinkHtml;\n",
              "          element.appendChild(docLink);\n",
              "        }\n",
              "      </script>\n",
              "    </div>\n",
              "  </div>\n",
              "  "
            ],
            "text/plain": [
              "   Person  depression  Used Drugs  isDiabetic  #people in family  isAlcoholic  \\\n",
              "0   41479           0         0.0           0                  5          0.0   \n",
              "1   41481           0         0.0           0                  4          0.0   \n",
              "2   41483           0         0.0           1                  3          0.0   \n",
              "3   41487           0         0.0           0                  1          0.0   \n",
              "4   41489           0         0.0           0                  3          0.0   \n",
              "\n",
              "   Gender  Age  CompletedHighSchool  maritalStatus  povertyThreshold  \\\n",
              "0       1   52                    0              1              2.20   \n",
              "1       1   21                    1              0              1.63   \n",
              "2       1   66                    1              1              1.14   \n",
              "3       1   27                    1              0              5.00   \n",
              "4       2   40                    1              1              2.15   \n",
              "\n",
              "         BMI familySize     finStatus  \n",
              "0  22.240116        Big  Middle class  \n",
              "1  23.088230      Small          Poor  \n",
              "2  40.306905      Small          Poor  \n",
              "3  22.807188     Single          Rich  \n",
              "4  35.428046      Small  Middle class  "
            ]
          },
          "execution_count": 69,
          "metadata": {},
          "output_type": "execute_result"
        }
      ],
      "source": [
        "df.head()"
      ]
    },
    {
      "cell_type": "markdown",
      "metadata": {
        "id": "QbGDvlcrMNZ3"
      },
      "source": [
        "# Assigning weight category based on BMI\n",
        "\n",
        "1. If BMI is less than 18.5, it falls within the underweight range.\n",
        "2. If BMI is 18.5 to <25, it falls within the healthy weight range.\n",
        "3. If BMI is 25.0 to <30, it falls within the overweight range.\n",
        "4. If BMI is 30.0 or higher, it falls within the obesity range."
      ]
    },
    {
      "cell_type": "code",
      "execution_count": 70,
      "metadata": {
        "id": "AxZsESFGMTCP"
      },
      "outputs": [],
      "source": [
        "def categorize_weight(value):\n",
        "  if value < 18.5:\n",
        "    return \"Under Weight\"\n",
        "  elif value >= 18.5 and value < 25:\n",
        "    return \"Healthy\"\n",
        "  elif value >= 25 and value < 30:\n",
        "    return \"Overweight\"\n",
        "  elif value >=30:\n",
        "    return \"Obese\""
      ]
    },
    {
      "cell_type": "code",
      "execution_count": 71,
      "metadata": {
        "id": "yxMi2yUfXWDP"
      },
      "outputs": [],
      "source": [
        "df['weightCategory'] = df['BMI'].apply(categorize_weight)"
      ]
    },
    {
      "cell_type": "code",
      "execution_count": 72,
      "metadata": {
        "colab": {
          "base_uri": "https://localhost:8080/"
        },
        "id": "53a1sXhsXvvd",
        "outputId": "289d23a6-469b-4762-9fd2-7e788306c427"
      },
      "outputs": [
        {
          "name": "stdout",
          "output_type": "stream",
          "text": [
            "Overweight      1246\n",
            "Obese           1102\n",
            "Healthy         1045\n",
            "Under Weight      47\n",
            "Name: weightCategory, dtype: int64\n"
          ]
        }
      ],
      "source": [
        "print(df['weightCategory'].value_counts())"
      ]
    },
    {
      "cell_type": "code",
      "execution_count": 73,
      "metadata": {
        "colab": {
          "base_uri": "https://localhost:8080/",
          "height": 339
        },
        "id": "roKjF_57YmU5",
        "outputId": "90a89b16-eabb-4612-a7b3-a2eb07c5e422"
      },
      "outputs": [
        {
          "data": {
            "text/html": [
              "\n",
              "  <div id=\"df-27bdd17e-d063-400a-8033-59767de563a3\">\n",
              "    <div class=\"colab-df-container\">\n",
              "      <div>\n",
              "<style scoped>\n",
              "    .dataframe tbody tr th:only-of-type {\n",
              "        vertical-align: middle;\n",
              "    }\n",
              "\n",
              "    .dataframe tbody tr th {\n",
              "        vertical-align: top;\n",
              "    }\n",
              "\n",
              "    .dataframe thead th {\n",
              "        text-align: right;\n",
              "    }\n",
              "</style>\n",
              "<table border=\"1\" class=\"dataframe\">\n",
              "  <thead>\n",
              "    <tr style=\"text-align: right;\">\n",
              "      <th></th>\n",
              "      <th>Person</th>\n",
              "      <th>depression</th>\n",
              "      <th>Used Drugs</th>\n",
              "      <th>isDiabetic</th>\n",
              "      <th>#people in family</th>\n",
              "      <th>isAlcoholic</th>\n",
              "      <th>Gender</th>\n",
              "      <th>Age</th>\n",
              "      <th>CompletedHighSchool</th>\n",
              "      <th>maritalStatus</th>\n",
              "      <th>povertyThreshold</th>\n",
              "      <th>BMI</th>\n",
              "      <th>familySize</th>\n",
              "      <th>finStatus</th>\n",
              "      <th>weightCategory</th>\n",
              "    </tr>\n",
              "  </thead>\n",
              "  <tbody>\n",
              "    <tr>\n",
              "      <th>0</th>\n",
              "      <td>41479</td>\n",
              "      <td>0</td>\n",
              "      <td>0.0</td>\n",
              "      <td>0</td>\n",
              "      <td>5</td>\n",
              "      <td>0.0</td>\n",
              "      <td>1</td>\n",
              "      <td>52</td>\n",
              "      <td>0</td>\n",
              "      <td>1</td>\n",
              "      <td>2.20</td>\n",
              "      <td>22.240116</td>\n",
              "      <td>Big</td>\n",
              "      <td>Middle class</td>\n",
              "      <td>Healthy</td>\n",
              "    </tr>\n",
              "    <tr>\n",
              "      <th>1</th>\n",
              "      <td>41481</td>\n",
              "      <td>0</td>\n",
              "      <td>0.0</td>\n",
              "      <td>0</td>\n",
              "      <td>4</td>\n",
              "      <td>0.0</td>\n",
              "      <td>1</td>\n",
              "      <td>21</td>\n",
              "      <td>1</td>\n",
              "      <td>0</td>\n",
              "      <td>1.63</td>\n",
              "      <td>23.088230</td>\n",
              "      <td>Small</td>\n",
              "      <td>Poor</td>\n",
              "      <td>Healthy</td>\n",
              "    </tr>\n",
              "    <tr>\n",
              "      <th>2</th>\n",
              "      <td>41483</td>\n",
              "      <td>0</td>\n",
              "      <td>0.0</td>\n",
              "      <td>1</td>\n",
              "      <td>3</td>\n",
              "      <td>0.0</td>\n",
              "      <td>1</td>\n",
              "      <td>66</td>\n",
              "      <td>1</td>\n",
              "      <td>1</td>\n",
              "      <td>1.14</td>\n",
              "      <td>40.306905</td>\n",
              "      <td>Small</td>\n",
              "      <td>Poor</td>\n",
              "      <td>Obese</td>\n",
              "    </tr>\n",
              "    <tr>\n",
              "      <th>3</th>\n",
              "      <td>41487</td>\n",
              "      <td>0</td>\n",
              "      <td>0.0</td>\n",
              "      <td>0</td>\n",
              "      <td>1</td>\n",
              "      <td>0.0</td>\n",
              "      <td>1</td>\n",
              "      <td>27</td>\n",
              "      <td>1</td>\n",
              "      <td>0</td>\n",
              "      <td>5.00</td>\n",
              "      <td>22.807188</td>\n",
              "      <td>Single</td>\n",
              "      <td>Rich</td>\n",
              "      <td>Healthy</td>\n",
              "    </tr>\n",
              "    <tr>\n",
              "      <th>4</th>\n",
              "      <td>41489</td>\n",
              "      <td>0</td>\n",
              "      <td>0.0</td>\n",
              "      <td>0</td>\n",
              "      <td>3</td>\n",
              "      <td>0.0</td>\n",
              "      <td>2</td>\n",
              "      <td>40</td>\n",
              "      <td>1</td>\n",
              "      <td>1</td>\n",
              "      <td>2.15</td>\n",
              "      <td>35.428046</td>\n",
              "      <td>Small</td>\n",
              "      <td>Middle class</td>\n",
              "      <td>Obese</td>\n",
              "    </tr>\n",
              "  </tbody>\n",
              "</table>\n",
              "</div>\n",
              "      <button class=\"colab-df-convert\" onclick=\"convertToInteractive('df-27bdd17e-d063-400a-8033-59767de563a3')\"\n",
              "              title=\"Convert this dataframe to an interactive table.\"\n",
              "              style=\"display:none;\">\n",
              "        \n",
              "  <svg xmlns=\"http://www.w3.org/2000/svg\" height=\"24px\"viewBox=\"0 0 24 24\"\n",
              "       width=\"24px\">\n",
              "    <path d=\"M0 0h24v24H0V0z\" fill=\"none\"/>\n",
              "    <path d=\"M18.56 5.44l.94 2.06.94-2.06 2.06-.94-2.06-.94-.94-2.06-.94 2.06-2.06.94zm-11 1L8.5 8.5l.94-2.06 2.06-.94-2.06-.94L8.5 2.5l-.94 2.06-2.06.94zm10 10l.94 2.06.94-2.06 2.06-.94-2.06-.94-.94-2.06-.94 2.06-2.06.94z\"/><path d=\"M17.41 7.96l-1.37-1.37c-.4-.4-.92-.59-1.43-.59-.52 0-1.04.2-1.43.59L10.3 9.45l-7.72 7.72c-.78.78-.78 2.05 0 2.83L4 21.41c.39.39.9.59 1.41.59.51 0 1.02-.2 1.41-.59l7.78-7.78 2.81-2.81c.8-.78.8-2.07 0-2.86zM5.41 20L4 18.59l7.72-7.72 1.47 1.35L5.41 20z\"/>\n",
              "  </svg>\n",
              "      </button>\n",
              "      \n",
              "  <style>\n",
              "    .colab-df-container {\n",
              "      display:flex;\n",
              "      flex-wrap:wrap;\n",
              "      gap: 12px;\n",
              "    }\n",
              "\n",
              "    .colab-df-convert {\n",
              "      background-color: #E8F0FE;\n",
              "      border: none;\n",
              "      border-radius: 50%;\n",
              "      cursor: pointer;\n",
              "      display: none;\n",
              "      fill: #1967D2;\n",
              "      height: 32px;\n",
              "      padding: 0 0 0 0;\n",
              "      width: 32px;\n",
              "    }\n",
              "\n",
              "    .colab-df-convert:hover {\n",
              "      background-color: #E2EBFA;\n",
              "      box-shadow: 0px 1px 2px rgba(60, 64, 67, 0.3), 0px 1px 3px 1px rgba(60, 64, 67, 0.15);\n",
              "      fill: #174EA6;\n",
              "    }\n",
              "\n",
              "    [theme=dark] .colab-df-convert {\n",
              "      background-color: #3B4455;\n",
              "      fill: #D2E3FC;\n",
              "    }\n",
              "\n",
              "    [theme=dark] .colab-df-convert:hover {\n",
              "      background-color: #434B5C;\n",
              "      box-shadow: 0px 1px 3px 1px rgba(0, 0, 0, 0.15);\n",
              "      filter: drop-shadow(0px 1px 2px rgba(0, 0, 0, 0.3));\n",
              "      fill: #FFFFFF;\n",
              "    }\n",
              "  </style>\n",
              "\n",
              "      <script>\n",
              "        const buttonEl =\n",
              "          document.querySelector('#df-27bdd17e-d063-400a-8033-59767de563a3 button.colab-df-convert');\n",
              "        buttonEl.style.display =\n",
              "          google.colab.kernel.accessAllowed ? 'block' : 'none';\n",
              "\n",
              "        async function convertToInteractive(key) {\n",
              "          const element = document.querySelector('#df-27bdd17e-d063-400a-8033-59767de563a3');\n",
              "          const dataTable =\n",
              "            await google.colab.kernel.invokeFunction('convertToInteractive',\n",
              "                                                     [key], {});\n",
              "          if (!dataTable) return;\n",
              "\n",
              "          const docLinkHtml = 'Like what you see? Visit the ' +\n",
              "            '<a target=\"_blank\" href=https://colab.research.google.com/notebooks/data_table.ipynb>data table notebook</a>'\n",
              "            + ' to learn more about interactive tables.';\n",
              "          element.innerHTML = '';\n",
              "          dataTable['output_type'] = 'display_data';\n",
              "          await google.colab.output.renderOutput(dataTable, element);\n",
              "          const docLink = document.createElement('div');\n",
              "          docLink.innerHTML = docLinkHtml;\n",
              "          element.appendChild(docLink);\n",
              "        }\n",
              "      </script>\n",
              "    </div>\n",
              "  </div>\n",
              "  "
            ],
            "text/plain": [
              "   Person  depression  Used Drugs  isDiabetic  #people in family  isAlcoholic  \\\n",
              "0   41479           0         0.0           0                  5          0.0   \n",
              "1   41481           0         0.0           0                  4          0.0   \n",
              "2   41483           0         0.0           1                  3          0.0   \n",
              "3   41487           0         0.0           0                  1          0.0   \n",
              "4   41489           0         0.0           0                  3          0.0   \n",
              "\n",
              "   Gender  Age  CompletedHighSchool  maritalStatus  povertyThreshold  \\\n",
              "0       1   52                    0              1              2.20   \n",
              "1       1   21                    1              0              1.63   \n",
              "2       1   66                    1              1              1.14   \n",
              "3       1   27                    1              0              5.00   \n",
              "4       2   40                    1              1              2.15   \n",
              "\n",
              "         BMI familySize     finStatus weightCategory  \n",
              "0  22.240116        Big  Middle class        Healthy  \n",
              "1  23.088230      Small          Poor        Healthy  \n",
              "2  40.306905      Small          Poor          Obese  \n",
              "3  22.807188     Single          Rich        Healthy  \n",
              "4  35.428046      Small  Middle class          Obese  "
            ]
          },
          "execution_count": 73,
          "metadata": {},
          "output_type": "execute_result"
        }
      ],
      "source": [
        "df.head()"
      ]
    },
    {
      "cell_type": "code",
      "execution_count": 74,
      "metadata": {
        "colab": {
          "base_uri": "https://localhost:8080/"
        },
        "id": "vNjvj7OhwBBi",
        "outputId": "4ee9fb52-d575-4aa4-dbbe-a7d5dc6fcf87"
      },
      "outputs": [
        {
          "name": "stdout",
          "output_type": "stream",
          "text": [
            "Person                   int64\n",
            "depression               int64\n",
            "Used Drugs             float64\n",
            "isDiabetic               int64\n",
            "#people in family        int64\n",
            "isAlcoholic            float64\n",
            "Gender                   int64\n",
            "Age                      int64\n",
            "CompletedHighSchool      int64\n",
            "maritalStatus            int64\n",
            "povertyThreshold       float64\n",
            "BMI                    float64\n",
            "familySize              object\n",
            "finStatus               object\n",
            "weightCategory          object\n",
            "dtype: object\n"
          ]
        }
      ],
      "source": [
        "print(df.dtypes)"
      ]
    },
    {
      "cell_type": "markdown",
      "metadata": {
        "id": "qQLnStd5xaO7"
      },
      "source": [
        "# Updating gender values to male or female as it will be easy to categorize"
      ]
    },
    {
      "cell_type": "code",
      "execution_count": 75,
      "metadata": {
        "id": "QxQ2IWd8xZDZ"
      },
      "outputs": [],
      "source": [
        "df.loc[df['Gender'] == 1, 'Gender'] = 'Male'\n",
        "df.loc[df['Gender'] == 2, 'Gender'] = 'Female'"
      ]
    },
    {
      "cell_type": "code",
      "execution_count": 130,
      "metadata": {
        "colab": {
          "base_uri": "https://localhost:8080/",
          "height": 305
        },
        "id": "arjWWBi_yEA5",
        "outputId": "437bec33-b732-4fed-aa01-b547181a42c0"
      },
      "outputs": [
        {
          "data": {
            "text/html": [
              "\n",
              "  <div id=\"df-2ccda95c-f707-4d6a-b37a-ac2f8218dbf4\">\n",
              "    <div class=\"colab-df-container\">\n",
              "      <div>\n",
              "<style scoped>\n",
              "    .dataframe tbody tr th:only-of-type {\n",
              "        vertical-align: middle;\n",
              "    }\n",
              "\n",
              "    .dataframe tbody tr th {\n",
              "        vertical-align: top;\n",
              "    }\n",
              "\n",
              "    .dataframe thead th {\n",
              "        text-align: right;\n",
              "    }\n",
              "</style>\n",
              "<table border=\"1\" class=\"dataframe\">\n",
              "  <thead>\n",
              "    <tr style=\"text-align: right;\">\n",
              "      <th></th>\n",
              "      <th>Person</th>\n",
              "      <th>depression</th>\n",
              "      <th>Used Drugs</th>\n",
              "      <th>isDiabetic</th>\n",
              "      <th>#people in family</th>\n",
              "      <th>isAlcoholic</th>\n",
              "      <th>Gender</th>\n",
              "      <th>Age</th>\n",
              "      <th>CompletedHighSchool</th>\n",
              "      <th>maritalStatus</th>\n",
              "      <th>povertyThreshold</th>\n",
              "      <th>BMI</th>\n",
              "      <th>familySize</th>\n",
              "      <th>finStatus</th>\n",
              "      <th>weightCategory</th>\n",
              "      <th>age_cluster</th>\n",
              "    </tr>\n",
              "  </thead>\n",
              "  <tbody>\n",
              "    <tr>\n",
              "      <th>740</th>\n",
              "      <td>43695</td>\n",
              "      <td>1</td>\n",
              "      <td>0.0</td>\n",
              "      <td>0</td>\n",
              "      <td>2</td>\n",
              "      <td>0.0</td>\n",
              "      <td>Female</td>\n",
              "      <td>33</td>\n",
              "      <td>1</td>\n",
              "      <td>1</td>\n",
              "      <td>5.00</td>\n",
              "      <td>29.121225</td>\n",
              "      <td>Small</td>\n",
              "      <td>Rich</td>\n",
              "      <td>Overweight</td>\n",
              "      <td>40-50</td>\n",
              "    </tr>\n",
              "    <tr>\n",
              "      <th>2310</th>\n",
              "      <td>48365</td>\n",
              "      <td>1</td>\n",
              "      <td>0.0</td>\n",
              "      <td>0</td>\n",
              "      <td>2</td>\n",
              "      <td>0.0</td>\n",
              "      <td>Female</td>\n",
              "      <td>53</td>\n",
              "      <td>0</td>\n",
              "      <td>1</td>\n",
              "      <td>1.83</td>\n",
              "      <td>32.922093</td>\n",
              "      <td>Small</td>\n",
              "      <td>Poor</td>\n",
              "      <td>Obese</td>\n",
              "      <td>20-30</td>\n",
              "    </tr>\n",
              "    <tr>\n",
              "      <th>284</th>\n",
              "      <td>42381</td>\n",
              "      <td>0</td>\n",
              "      <td>0.0</td>\n",
              "      <td>0</td>\n",
              "      <td>5</td>\n",
              "      <td>0.0</td>\n",
              "      <td>Male</td>\n",
              "      <td>24</td>\n",
              "      <td>0</td>\n",
              "      <td>0</td>\n",
              "      <td>0.46</td>\n",
              "      <td>27.319444</td>\n",
              "      <td>Big</td>\n",
              "      <td>Poor</td>\n",
              "      <td>Overweight</td>\n",
              "      <td>30-40</td>\n",
              "    </tr>\n",
              "    <tr>\n",
              "      <th>2062</th>\n",
              "      <td>47571</td>\n",
              "      <td>0</td>\n",
              "      <td>0.0</td>\n",
              "      <td>0</td>\n",
              "      <td>1</td>\n",
              "      <td>0.0</td>\n",
              "      <td>Male</td>\n",
              "      <td>38</td>\n",
              "      <td>1</td>\n",
              "      <td>0</td>\n",
              "      <td>0.71</td>\n",
              "      <td>38.837912</td>\n",
              "      <td>Single</td>\n",
              "      <td>Poor</td>\n",
              "      <td>Obese</td>\n",
              "      <td>40-50</td>\n",
              "    </tr>\n",
              "    <tr>\n",
              "      <th>2056</th>\n",
              "      <td>47541</td>\n",
              "      <td>1</td>\n",
              "      <td>0.0</td>\n",
              "      <td>0</td>\n",
              "      <td>4</td>\n",
              "      <td>1.0</td>\n",
              "      <td>Male</td>\n",
              "      <td>31</td>\n",
              "      <td>0</td>\n",
              "      <td>1</td>\n",
              "      <td>0.02</td>\n",
              "      <td>19.370284</td>\n",
              "      <td>Small</td>\n",
              "      <td>Poor</td>\n",
              "      <td>Healthy</td>\n",
              "      <td>40-50</td>\n",
              "    </tr>\n",
              "  </tbody>\n",
              "</table>\n",
              "</div>\n",
              "      <button class=\"colab-df-convert\" onclick=\"convertToInteractive('df-2ccda95c-f707-4d6a-b37a-ac2f8218dbf4')\"\n",
              "              title=\"Convert this dataframe to an interactive table.\"\n",
              "              style=\"display:none;\">\n",
              "        \n",
              "  <svg xmlns=\"http://www.w3.org/2000/svg\" height=\"24px\"viewBox=\"0 0 24 24\"\n",
              "       width=\"24px\">\n",
              "    <path d=\"M0 0h24v24H0V0z\" fill=\"none\"/>\n",
              "    <path d=\"M18.56 5.44l.94 2.06.94-2.06 2.06-.94-2.06-.94-.94-2.06-.94 2.06-2.06.94zm-11 1L8.5 8.5l.94-2.06 2.06-.94-2.06-.94L8.5 2.5l-.94 2.06-2.06.94zm10 10l.94 2.06.94-2.06 2.06-.94-2.06-.94-.94-2.06-.94 2.06-2.06.94z\"/><path d=\"M17.41 7.96l-1.37-1.37c-.4-.4-.92-.59-1.43-.59-.52 0-1.04.2-1.43.59L10.3 9.45l-7.72 7.72c-.78.78-.78 2.05 0 2.83L4 21.41c.39.39.9.59 1.41.59.51 0 1.02-.2 1.41-.59l7.78-7.78 2.81-2.81c.8-.78.8-2.07 0-2.86zM5.41 20L4 18.59l7.72-7.72 1.47 1.35L5.41 20z\"/>\n",
              "  </svg>\n",
              "      </button>\n",
              "      \n",
              "  <style>\n",
              "    .colab-df-container {\n",
              "      display:flex;\n",
              "      flex-wrap:wrap;\n",
              "      gap: 12px;\n",
              "    }\n",
              "\n",
              "    .colab-df-convert {\n",
              "      background-color: #E8F0FE;\n",
              "      border: none;\n",
              "      border-radius: 50%;\n",
              "      cursor: pointer;\n",
              "      display: none;\n",
              "      fill: #1967D2;\n",
              "      height: 32px;\n",
              "      padding: 0 0 0 0;\n",
              "      width: 32px;\n",
              "    }\n",
              "\n",
              "    .colab-df-convert:hover {\n",
              "      background-color: #E2EBFA;\n",
              "      box-shadow: 0px 1px 2px rgba(60, 64, 67, 0.3), 0px 1px 3px 1px rgba(60, 64, 67, 0.15);\n",
              "      fill: #174EA6;\n",
              "    }\n",
              "\n",
              "    [theme=dark] .colab-df-convert {\n",
              "      background-color: #3B4455;\n",
              "      fill: #D2E3FC;\n",
              "    }\n",
              "\n",
              "    [theme=dark] .colab-df-convert:hover {\n",
              "      background-color: #434B5C;\n",
              "      box-shadow: 0px 1px 3px 1px rgba(0, 0, 0, 0.15);\n",
              "      filter: drop-shadow(0px 1px 2px rgba(0, 0, 0, 0.3));\n",
              "      fill: #FFFFFF;\n",
              "    }\n",
              "  </style>\n",
              "\n",
              "      <script>\n",
              "        const buttonEl =\n",
              "          document.querySelector('#df-2ccda95c-f707-4d6a-b37a-ac2f8218dbf4 button.colab-df-convert');\n",
              "        buttonEl.style.display =\n",
              "          google.colab.kernel.accessAllowed ? 'block' : 'none';\n",
              "\n",
              "        async function convertToInteractive(key) {\n",
              "          const element = document.querySelector('#df-2ccda95c-f707-4d6a-b37a-ac2f8218dbf4');\n",
              "          const dataTable =\n",
              "            await google.colab.kernel.invokeFunction('convertToInteractive',\n",
              "                                                     [key], {});\n",
              "          if (!dataTable) return;\n",
              "\n",
              "          const docLinkHtml = 'Like what you see? Visit the ' +\n",
              "            '<a target=\"_blank\" href=https://colab.research.google.com/notebooks/data_table.ipynb>data table notebook</a>'\n",
              "            + ' to learn more about interactive tables.';\n",
              "          element.innerHTML = '';\n",
              "          dataTable['output_type'] = 'display_data';\n",
              "          await google.colab.output.renderOutput(dataTable, element);\n",
              "          const docLink = document.createElement('div');\n",
              "          docLink.innerHTML = docLinkHtml;\n",
              "          element.appendChild(docLink);\n",
              "        }\n",
              "      </script>\n",
              "    </div>\n",
              "  </div>\n",
              "  "
            ],
            "text/plain": [
              "      Person  depression  Used Drugs  isDiabetic  #people in family  \\\n",
              "740    43695           1         0.0           0                  2   \n",
              "2310   48365           1         0.0           0                  2   \n",
              "284    42381           0         0.0           0                  5   \n",
              "2062   47571           0         0.0           0                  1   \n",
              "2056   47541           1         0.0           0                  4   \n",
              "\n",
              "      isAlcoholic  Gender  Age  CompletedHighSchool  maritalStatus  \\\n",
              "740           0.0  Female   33                    1              1   \n",
              "2310          0.0  Female   53                    0              1   \n",
              "284           0.0    Male   24                    0              0   \n",
              "2062          0.0    Male   38                    1              0   \n",
              "2056          1.0    Male   31                    0              1   \n",
              "\n",
              "      povertyThreshold        BMI familySize finStatus weightCategory  \\\n",
              "740               5.00  29.121225      Small      Rich     Overweight   \n",
              "2310              1.83  32.922093      Small      Poor          Obese   \n",
              "284               0.46  27.319444        Big      Poor     Overweight   \n",
              "2062              0.71  38.837912     Single      Poor          Obese   \n",
              "2056              0.02  19.370284      Small      Poor        Healthy   \n",
              "\n",
              "     age_cluster  \n",
              "740        40-50  \n",
              "2310       20-30  \n",
              "284        30-40  \n",
              "2062       40-50  \n",
              "2056       40-50  "
            ]
          },
          "execution_count": 130,
          "metadata": {},
          "output_type": "execute_result"
        }
      ],
      "source": [
        "df.sample(5)"
      ]
    },
    {
      "cell_type": "code",
      "execution_count": 77,
      "metadata": {
        "id": "9Gu58wOz0dJd"
      },
      "outputs": [],
      "source": [
        "#dropping rows where Drugs consumed is equal to 7 or 9\n",
        "drop_records = df[df['weightCategory'].isnull() ].index\n",
        "df.drop(drop_records , inplace=True)"
      ]
    },
    {
      "cell_type": "code",
      "execution_count": 78,
      "metadata": {
        "id": "3_de9LASzgmH"
      },
      "outputs": [],
      "source": [
        "df = df.reset_index(drop=True)"
      ]
    },
    {
      "cell_type": "code",
      "execution_count": 79,
      "metadata": {
        "id": "vBd7u3kUkhoN"
      },
      "outputs": [],
      "source": [
        "df.to_csv(\"/content/sample_data/cleaned_data.csv\")"
      ]
    },
    {
      "cell_type": "markdown",
      "metadata": {
        "id": "PADFp93nfwc2"
      },
      "source": [
        "# Exploratory Data Analysis"
      ]
    },
    {
      "cell_type": "code",
      "execution_count": 80,
      "metadata": {
        "colab": {
          "base_uri": "https://localhost:8080/",
          "height": 300
        },
        "id": "ocz_7YgakhyM",
        "outputId": "81e534a9-397d-4a17-c85c-d6d362ae46fd"
      },
      "outputs": [
        {
          "data": {
            "text/html": [
              "\n",
              "  <div id=\"df-7636d6f2-ca9c-4ddb-9474-f9850318ad8f\">\n",
              "    <div class=\"colab-df-container\">\n",
              "      <div>\n",
              "<style scoped>\n",
              "    .dataframe tbody tr th:only-of-type {\n",
              "        vertical-align: middle;\n",
              "    }\n",
              "\n",
              "    .dataframe tbody tr th {\n",
              "        vertical-align: top;\n",
              "    }\n",
              "\n",
              "    .dataframe thead th {\n",
              "        text-align: right;\n",
              "    }\n",
              "</style>\n",
              "<table border=\"1\" class=\"dataframe\">\n",
              "  <thead>\n",
              "    <tr style=\"text-align: right;\">\n",
              "      <th></th>\n",
              "      <th>#people in family</th>\n",
              "      <th>Age</th>\n",
              "      <th>BMI</th>\n",
              "      <th>povertyThreshold</th>\n",
              "    </tr>\n",
              "  </thead>\n",
              "  <tbody>\n",
              "    <tr>\n",
              "      <th>count</th>\n",
              "      <td>3440.000000</td>\n",
              "      <td>3440.000000</td>\n",
              "      <td>3440.000000</td>\n",
              "      <td>3183.000000</td>\n",
              "    </tr>\n",
              "    <tr>\n",
              "      <th>mean</th>\n",
              "      <td>3.060465</td>\n",
              "      <td>44.634884</td>\n",
              "      <td>27.925146</td>\n",
              "      <td>2.690440</td>\n",
              "    </tr>\n",
              "    <tr>\n",
              "      <th>std</th>\n",
              "      <td>1.667421</td>\n",
              "      <td>14.049257</td>\n",
              "      <td>5.288216</td>\n",
              "      <td>1.675414</td>\n",
              "    </tr>\n",
              "    <tr>\n",
              "      <th>min</th>\n",
              "      <td>1.000000</td>\n",
              "      <td>20.000000</td>\n",
              "      <td>14.248736</td>\n",
              "      <td>0.000000</td>\n",
              "    </tr>\n",
              "    <tr>\n",
              "      <th>25%</th>\n",
              "      <td>2.000000</td>\n",
              "      <td>33.000000</td>\n",
              "      <td>24.140892</td>\n",
              "      <td>1.180000</td>\n",
              "    </tr>\n",
              "    <tr>\n",
              "      <th>50%</th>\n",
              "      <td>3.000000</td>\n",
              "      <td>45.000000</td>\n",
              "      <td>27.341595</td>\n",
              "      <td>2.350000</td>\n",
              "    </tr>\n",
              "    <tr>\n",
              "      <th>75%</th>\n",
              "      <td>4.000000</td>\n",
              "      <td>57.000000</td>\n",
              "      <td>31.247537</td>\n",
              "      <td>4.640000</td>\n",
              "    </tr>\n",
              "    <tr>\n",
              "      <th>max</th>\n",
              "      <td>7.000000</td>\n",
              "      <td>69.000000</td>\n",
              "      <td>43.120420</td>\n",
              "      <td>5.000000</td>\n",
              "    </tr>\n",
              "  </tbody>\n",
              "</table>\n",
              "</div>\n",
              "      <button class=\"colab-df-convert\" onclick=\"convertToInteractive('df-7636d6f2-ca9c-4ddb-9474-f9850318ad8f')\"\n",
              "              title=\"Convert this dataframe to an interactive table.\"\n",
              "              style=\"display:none;\">\n",
              "        \n",
              "  <svg xmlns=\"http://www.w3.org/2000/svg\" height=\"24px\"viewBox=\"0 0 24 24\"\n",
              "       width=\"24px\">\n",
              "    <path d=\"M0 0h24v24H0V0z\" fill=\"none\"/>\n",
              "    <path d=\"M18.56 5.44l.94 2.06.94-2.06 2.06-.94-2.06-.94-.94-2.06-.94 2.06-2.06.94zm-11 1L8.5 8.5l.94-2.06 2.06-.94-2.06-.94L8.5 2.5l-.94 2.06-2.06.94zm10 10l.94 2.06.94-2.06 2.06-.94-2.06-.94-.94-2.06-.94 2.06-2.06.94z\"/><path d=\"M17.41 7.96l-1.37-1.37c-.4-.4-.92-.59-1.43-.59-.52 0-1.04.2-1.43.59L10.3 9.45l-7.72 7.72c-.78.78-.78 2.05 0 2.83L4 21.41c.39.39.9.59 1.41.59.51 0 1.02-.2 1.41-.59l7.78-7.78 2.81-2.81c.8-.78.8-2.07 0-2.86zM5.41 20L4 18.59l7.72-7.72 1.47 1.35L5.41 20z\"/>\n",
              "  </svg>\n",
              "      </button>\n",
              "      \n",
              "  <style>\n",
              "    .colab-df-container {\n",
              "      display:flex;\n",
              "      flex-wrap:wrap;\n",
              "      gap: 12px;\n",
              "    }\n",
              "\n",
              "    .colab-df-convert {\n",
              "      background-color: #E8F0FE;\n",
              "      border: none;\n",
              "      border-radius: 50%;\n",
              "      cursor: pointer;\n",
              "      display: none;\n",
              "      fill: #1967D2;\n",
              "      height: 32px;\n",
              "      padding: 0 0 0 0;\n",
              "      width: 32px;\n",
              "    }\n",
              "\n",
              "    .colab-df-convert:hover {\n",
              "      background-color: #E2EBFA;\n",
              "      box-shadow: 0px 1px 2px rgba(60, 64, 67, 0.3), 0px 1px 3px 1px rgba(60, 64, 67, 0.15);\n",
              "      fill: #174EA6;\n",
              "    }\n",
              "\n",
              "    [theme=dark] .colab-df-convert {\n",
              "      background-color: #3B4455;\n",
              "      fill: #D2E3FC;\n",
              "    }\n",
              "\n",
              "    [theme=dark] .colab-df-convert:hover {\n",
              "      background-color: #434B5C;\n",
              "      box-shadow: 0px 1px 3px 1px rgba(0, 0, 0, 0.15);\n",
              "      filter: drop-shadow(0px 1px 2px rgba(0, 0, 0, 0.3));\n",
              "      fill: #FFFFFF;\n",
              "    }\n",
              "  </style>\n",
              "\n",
              "      <script>\n",
              "        const buttonEl =\n",
              "          document.querySelector('#df-7636d6f2-ca9c-4ddb-9474-f9850318ad8f button.colab-df-convert');\n",
              "        buttonEl.style.display =\n",
              "          google.colab.kernel.accessAllowed ? 'block' : 'none';\n",
              "\n",
              "        async function convertToInteractive(key) {\n",
              "          const element = document.querySelector('#df-7636d6f2-ca9c-4ddb-9474-f9850318ad8f');\n",
              "          const dataTable =\n",
              "            await google.colab.kernel.invokeFunction('convertToInteractive',\n",
              "                                                     [key], {});\n",
              "          if (!dataTable) return;\n",
              "\n",
              "          const docLinkHtml = 'Like what you see? Visit the ' +\n",
              "            '<a target=\"_blank\" href=https://colab.research.google.com/notebooks/data_table.ipynb>data table notebook</a>'\n",
              "            + ' to learn more about interactive tables.';\n",
              "          element.innerHTML = '';\n",
              "          dataTable['output_type'] = 'display_data';\n",
              "          await google.colab.output.renderOutput(dataTable, element);\n",
              "          const docLink = document.createElement('div');\n",
              "          docLink.innerHTML = docLinkHtml;\n",
              "          element.appendChild(docLink);\n",
              "        }\n",
              "      </script>\n",
              "    </div>\n",
              "  </div>\n",
              "  "
            ],
            "text/plain": [
              "       #people in family          Age          BMI  povertyThreshold\n",
              "count        3440.000000  3440.000000  3440.000000       3183.000000\n",
              "mean            3.060465    44.634884    27.925146          2.690440\n",
              "std             1.667421    14.049257     5.288216          1.675414\n",
              "min             1.000000    20.000000    14.248736          0.000000\n",
              "25%             2.000000    33.000000    24.140892          1.180000\n",
              "50%             3.000000    45.000000    27.341595          2.350000\n",
              "75%             4.000000    57.000000    31.247537          4.640000\n",
              "max             7.000000    69.000000    43.120420          5.000000"
            ]
          },
          "execution_count": 80,
          "metadata": {},
          "output_type": "execute_result"
        }
      ],
      "source": [
        "df[['#people in family','Age','BMI','povertyThreshold']].describe(include='all')\n",
        "# df.describe()"
      ]
    },
    {
      "cell_type": "code",
      "execution_count": 81,
      "metadata": {
        "id": "1oMR00T5hfGE"
      },
      "outputs": [],
      "source": [
        "import numpy as np\n",
        "import seaborn as sns\n",
        "import matplotlib.pyplot as plt"
      ]
    },
    {
      "cell_type": "code",
      "execution_count": 82,
      "metadata": {
        "colab": {
          "base_uri": "https://localhost:8080/",
          "height": 1000
        },
        "id": "9EboI9srhme2",
        "outputId": "424cef7d-c5bc-43ad-f763-d847636ca2df"
      },
      "outputs": [
        {
          "data": {
            "image/png": "[encoded data removed]",
            "text/plain": [
              "<Figure size 432x288 with 1 Axes>"
            ]
          },
          "metadata": {
            "needs_background": "light"
          },
          "output_type": "display_data"
        },
        {
          "data": {
            "image/png": "[encoded data removed]",
            "text/plain": [
              "<Figure size 432x288 with 1 Axes>"
            ]
          },
          "metadata": {
            "needs_background": "light"
          },
          "output_type": "display_data"
        },
        {
          "data": {
            "image/png": "[encoded data removed]",
            "text/plain": [
              "<Figure size 432x288 with 1 Axes>"
            ]
          },
          "metadata": {
            "needs_background": "light"
          },
          "output_type": "display_data"
        },
        {
          "data": {
            "image/png": "[encoded data removed]",
            "text/plain": [
              "<Figure size 432x288 with 1 Axes>"
            ]
          },
          "metadata": {
            "needs_background": "light"
          },
          "output_type": "display_data"
        }
      ],
      "source": [
        "# Univariate analysis of numeric variables\n",
        "num_vars = ['#people in family','Age','BMI','povertyThreshold']\n",
        "for var in num_vars:\n",
        "    sns.histplot(df[var])\n",
        "    plt.title(var)\n",
        "    plt.show()"
      ]
    },
    {
      "cell_type": "markdown",
      "metadata": {
        "id": "slQFmr5V7gXW"
      },
      "source": [
        "# Univariate analysis of categorical data"
      ]
    },
    {
      "cell_type": "code",
      "execution_count": 83,
      "metadata": {
        "colab": {
          "base_uri": "https://localhost:8080/",
          "height": 643
        },
        "id": "EO72WjpG68Ew",
        "outputId": "b638e587-f7d1-49df-be0f-2cfe34b5ead3"
      },
      "outputs": [
        {
          "data": {
            "image/png": "[encoded data removed]",
            "text/plain": [
              "<Figure size 1080x720 with 6 Axes>"
            ]
          },
          "metadata": {
            "needs_background": "light"
          },
          "output_type": "display_data"
        }
      ],
      "source": [
        "cat_vars = ['familySize', 'finStatus', 'weightCategory', 'maritalStatus', 'Gender']\n",
        "\n",
        "fig, axes = plt.subplots(nrows=2, ncols=3, figsize=(15,10))\n",
        "\n",
        "for var, ax in zip(cat_vars, axes.flatten()):\n",
        "    sns.countplot(x=var, data=df, ax=ax)\n",
        "    ax.set_title(var)\n",
        "\n",
        "plt.tight_layout()\n",
        "plt.show()"
      ]
    },
    {
      "cell_type": "code",
      "execution_count": 84,
      "metadata": {
        "id": "3tKBiYX7nd2A"
      },
      "outputs": [],
      "source": [
        "# remove missing values from column A\n",
        "df.dropna(subset=['finStatus'], inplace=True)"
      ]
    },
    {
      "cell_type": "markdown",
      "metadata": {
        "id": "c-GP-RoKGrvW"
      },
      "source": [
        "# Bivariate Analysis (categorical vs Numerical)"
      ]
    },
    {
      "cell_type": "code",
      "execution_count": 85,
      "metadata": {
        "colab": {
          "base_uri": "https://localhost:8080/",
          "height": 1000
        },
        "id": "zRidu64Eihag",
        "outputId": "cbb7bf23-eda6-4923-eb53-4adcefbd8c26"
      },
      "outputs": [
        {
          "data": {
            "image/png": "[encoded data removed]",
            "text/plain": [
              "<Figure size 422.5x360 with 1 Axes>"
            ]
          },
          "metadata": {
            "needs_background": "light"
          },
          "output_type": "display_data"
        },
        {
          "data": {
            "image/png": "[encoded data removed]",
            "text/plain": [
              "<Figure size 422.5x360 with 1 Axes>"
            ]
          },
          "metadata": {
            "needs_background": "light"
          },
          "output_type": "display_data"
        },
        {
          "data": {
            "image/png": "[encoded data removed]",
            "text/plain": [
              "<Figure size 422.5x360 with 1 Axes>"
            ]
          },
          "metadata": {
            "needs_background": "light"
          },
          "output_type": "display_data"
        },
        {
          "data": {
            "image/png": "[encoded data removed]",
            "text/plain": [
              "<Figure size 422.5x360 with 1 Axes>"
            ]
          },
          "metadata": {
            "needs_background": "light"
          },
          "output_type": "display_data"
        },
        {
          "data": {
            "image/png": "[encoded data removed]",
            "text/plain": [
              "<Figure size 422.5x360 with 1 Axes>"
            ]
          },
          "metadata": {
            "needs_background": "light"
          },
          "output_type": "display_data"
        },
        {
          "data": {
            "image/png": "[encoded data removed]",
            "text/plain": [
              "<Figure size 422.5x360 with 1 Axes>"
            ]
          },
          "metadata": {
            "needs_background": "light"
          },
          "output_type": "display_data"
        },
        {
          "data": {
            "image/png": "[encoded data removed]",
            "text/plain": [
              "<Figure size 422.5x360 with 1 Axes>"
            ]
          },
          "metadata": {
            "needs_background": "light"
          },
          "output_type": "display_data"
        },
        {
          "data": {
            "image/png": "[encoded data removed]",
            "text/plain": [
              "<Figure size 422.5x360 with 1 Axes>"
            ]
          },
          "metadata": {
            "needs_background": "light"
          },
          "output_type": "display_data"
        },
        {
          "data": {
            "image/png": "[encoded data removed]",
            "text/plain": [
              "<Figure size 422.5x360 with 1 Axes>"
            ]
          },
          "metadata": {
            "needs_background": "light"
          },
          "output_type": "display_data"
        },
        {
          "data": {
            "image/png": "[encoded data removed]",
            "text/plain": [
              "<Figure size 422.5x360 with 1 Axes>"
            ]
          },
          "metadata": {
            "needs_background": "light"
          },
          "output_type": "display_data"
        },
        {
          "data": {
            "image/png": "[encoded data removed]",
            "text/plain": [
              "<Figure size 422.5x360 with 1 Axes>"
            ]
          },
          "metadata": {
            "needs_background": "light"
          },
          "output_type": "display_data"
        },
        {
          "data": {
            "image/png": "[encoded data removed]",
            "text/plain": [
              "<Figure size 422.5x360 with 1 Axes>"
            ]
          },
          "metadata": {
            "needs_background": "light"
          },
          "output_type": "display_data"
        },
        {
          "data": {
            "image/png": "[encoded data removed]",
            "text/plain": [
              "<Figure size 422.5x360 with 1 Axes>"
            ]
          },
          "metadata": {
            "needs_background": "light"
          },
          "output_type": "display_data"
        },
        {
          "data": {
            "image/png": "[encoded data removed]",
            "text/plain": [
              "<Figure size 422.5x360 with 1 Axes>"
            ]
          },
          "metadata": {
            "needs_background": "light"
          },
          "output_type": "display_data"
        },
        {
          "data": {
            "image/png": "[encoded data removed]",
            "text/plain": [
              "<Figure size 422.5x360 with 1 Axes>"
            ]
          },
          "metadata": {
            "needs_background": "light"
          },
          "output_type": "display_data"
        },
        {
          "data": {
            "image/png": "[encoded data removed]",
            "text/plain": [
              "<Figure size 422.5x360 with 1 Axes>"
            ]
          },
          "metadata": {
            "needs_background": "light"
          },
          "output_type": "display_data"
        },
        {
          "data": {
            "image/png": "[encoded data removed]",
            "text/plain": [
              "<Figure size 422.5x360 with 1 Axes>"
            ]
          },
          "metadata": {
            "needs_background": "light"
          },
          "output_type": "display_data"
        },
        {
          "data": {
            "image/png": "[encoded data removed]",
            "text/plain": [
              "<Figure size 422.5x360 with 1 Axes>"
            ]
          },
          "metadata": {
            "needs_background": "light"
          },
          "output_type": "display_data"
        },
        {
          "data": {
            "image/png": "[encoded data removed]",
            "text/plain": [
              "<Figure size 422.5x360 with 1 Axes>"
            ]
          },
          "metadata": {
            "needs_background": "light"
          },
          "output_type": "display_data"
        },
        {
          "data": {
            "image/png": "[encoded data removed]",
            "text/plain": [
              "<Figure size 422.5x360 with 1 Axes>"
            ]
          },
          "metadata": {
            "needs_background": "light"
          },
          "output_type": "display_data"
        }
      ],
      "source": [
        "# Bivariate analysis of categorical variables\n",
        "for cat in cat_vars:\n",
        "  for num in num_vars:\n",
        "    sns.catplot(x=cat, y=num, data=df, kind='bar',hue='depression')\n",
        "    plt.title(cat + \" vs \" + num)\n",
        "    plt.show()\n",
        "\n"
      ]
    },
    {
      "cell_type": "code",
      "execution_count": 86,
      "metadata": {
        "colab": {
          "base_uri": "https://localhost:8080/",
          "height": 385
        },
        "id": "56b7yAtffrq7",
        "outputId": "9e3a702c-3b0f-441d-cbea-4e3faa571bfc"
      },
      "outputs": [
        {
          "data": {
            "image/png": "[encoded data removed]",
            "text/plain": [
              "<Figure size 360x360 with 1 Axes>"
            ]
          },
          "metadata": {
            "needs_background": "light"
          },
          "output_type": "display_data"
        }
      ],
      "source": [
        "# Bivariate analysis of categorical variables\n",
        "\n",
        "sns.catplot(x='Age', y='depression', data=df, kind='bar')\n",
        "plt.title('Age vs Depression')\n",
        "plt.show()"
      ]
    },
    {
      "cell_type": "markdown",
      "metadata": {
        "id": "vcPiVdAgikHf"
      },
      "source": [
        "# Apply K-means with 5 clusters on Age column to create new feature "
      ]
    },
    {
      "cell_type": "code",
      "execution_count": 87,
      "metadata": {
        "colab": {
          "base_uri": "https://localhost:8080/"
        },
        "id": "w5YROY0Wgofp",
        "outputId": "294692ce-ae0d-4746-838c-4213630b79a4"
      },
      "outputs": [
        {
          "name": "stderr",
          "output_type": "stream",
          "text": [
            "/usr/local/lib/python3.8/dist-packages/sklearn/cluster/_kmeans.py:870: FutureWarning: The default value of `n_init` will change from 10 to 'auto' in 1.4. Set the value of `n_init` explicitly to suppress the warning\n",
            "  warnings.warn(\n"
          ]
        }
      ],
      "source": [
        "from sklearn.cluster import KMeans\n",
        "# Perform k-means clustering on the Age column\n",
        "kmeans = KMeans(n_clusters=5)\n",
        "df['age_cluster'] = kmeans.fit_predict(df[['Age']])\n"
      ]
    },
    {
      "cell_type": "code",
      "execution_count": 88,
      "metadata": {
        "colab": {
          "base_uri": "https://localhost:8080/"
        },
        "id": "r862OIRViV2f",
        "outputId": "8eca3f2b-bdef-41ac-8451-40e3dcd51a02"
      },
      "outputs": [
        {
          "name": "stdout",
          "output_type": "stream",
          "text": [
            "2    698\n",
            "3    691\n",
            "1    641\n",
            "4    578\n",
            "0    575\n",
            "Name: age_cluster, dtype: int64\n"
          ]
        }
      ],
      "source": [
        "# View the distribution of cluster labels\n",
        "print(df['age_cluster'].value_counts())"
      ]
    },
    {
      "cell_type": "code",
      "execution_count": 89,
      "metadata": {
        "colab": {
          "base_uri": "https://localhost:8080/"
        },
        "id": "N9i44T5djGOV",
        "outputId": "14926dd1-9743-4f51-d395-5d9e7ef82843"
      },
      "outputs": [
        {
          "name": "stdout",
          "output_type": "stream",
          "text": [
            "40-50    698\n",
            "50-60    691\n",
            "30-40    641\n",
            "60-70    578\n",
            "20-30    575\n",
            "Name: age_cluster, dtype: int64\n"
          ]
        }
      ],
      "source": [
        "# Define a dictionary to map the cluster labels to new names\n",
        "cluster_names = {0: '20-30', 1: '30-40', 2: '40-50', 3: '50-60', 4: '60-70'}\n",
        "\n",
        "# Replace the cluster labels with the new names\n",
        "df['age_cluster'] = df['age_cluster'].replace(cluster_names)\n",
        "\n",
        "# View the updated cluster labels\n",
        "print(df['age_cluster'].value_counts())"
      ]
    },
    {
      "cell_type": "code",
      "execution_count": 90,
      "metadata": {
        "colab": {
          "base_uri": "https://localhost:8080/",
          "height": 385
        },
        "id": "0aGetLOejU57",
        "outputId": "cea6e0ea-12fd-4e62-c6d8-3ebb1f48968f"
      },
      "outputs": [
        {
          "data": {
            "image/png": "[encoded data removed]",
            "text/plain": [
              "<Figure size 422.5x360 with 1 Axes>"
            ]
          },
          "metadata": {
            "needs_background": "light"
          },
          "output_type": "display_data"
        }
      ],
      "source": [
        "# Bivariate analysis of age-clusters and depression variables\n",
        "\n",
        "sns.catplot(x='age_cluster', y='povertyThreshold', data=df, kind='bar',hue='depression')\n",
        "plt.title('Age Cluster vs Poverty')\n",
        "plt.show()"
      ]
    },
    {
      "cell_type": "code",
      "execution_count": 91,
      "metadata": {
        "colab": {
          "base_uri": "https://localhost:8080/",
          "height": 381
        },
        "id": "usqyoU_RO5GJ",
        "outputId": "d607c6fe-b207-4357-9232-afe2fd2856d2"
      },
      "outputs": [
        {
          "data": {
            "image/png": "[encoded data removed]",
            "text/plain": [
              "<Figure size 421x360 with 1 Axes>"
            ]
          },
          "metadata": {
            "needs_background": "light"
          },
          "output_type": "display_data"
        }
      ],
      "source": [
        "# Bivariate analysis of age-clusters and depression variables\n",
        "\n",
        "sns.catplot(x='age_cluster', y='povertyThreshold', data=df, kind='bar',hue='isAlcoholic')\n",
        "plt.title('Age Cluster vs povertyThreshold')\n",
        "plt.show()"
      ]
    },
    {
      "cell_type": "markdown",
      "metadata": {
        "id": "BFkHFWF-zgep"
      },
      "source": [
        "# Box plot (Numerical - Categorical)"
      ]
    },
    {
      "cell_type": "code",
      "execution_count": 92,
      "metadata": {
        "colab": {
          "base_uri": "https://localhost:8080/",
          "height": 296
        },
        "id": "f-e8J0mtzb6d",
        "outputId": "baf7864d-8419-4ad2-94ce-fad678439c7f"
      },
      "outputs": [
        {
          "data": {
            "text/plain": [
              "<AxesSubplot:xlabel='depression', ylabel='Age'>"
            ]
          },
          "execution_count": 92,
          "metadata": {},
          "output_type": "execute_result"
        },
        {
          "data": {
            "image/png": "[encoded data removed]",
            "text/plain": [
              "<Figure size 432x288 with 1 Axes>"
            ]
          },
          "metadata": {
            "needs_background": "light"
          },
          "output_type": "display_data"
        }
      ],
      "source": [
        "sns.boxplot(x=df['depression'],y=df['Age'],hue=df['isAlcoholic'])"
      ]
    },
    {
      "cell_type": "code",
      "execution_count": 93,
      "metadata": {
        "colab": {
          "base_uri": "https://localhost:8080/",
          "height": 296
        },
        "id": "g9RoZ3BMTsrZ",
        "outputId": "d3dbcd3f-43c1-4794-dd0a-82fe95855314"
      },
      "outputs": [
        {
          "data": {
            "text/plain": [
              "<AxesSubplot:xlabel='maritalStatus', ylabel='povertyThreshold'>"
            ]
          },
          "execution_count": 93,
          "metadata": {},
          "output_type": "execute_result"
        },
        {
          "data": {
            "image/png": "[encoded data removed]",
            "text/plain": [
              "<Figure size 432x288 with 1 Axes>"
            ]
          },
          "metadata": {
            "needs_background": "light"
          },
          "output_type": "display_data"
        }
      ],
      "source": [
        "sns.boxplot(x=df['maritalStatus'],y=df['povertyThreshold'],hue=df['isAlcoholic'])"
      ]
    },
    {
      "cell_type": "code",
      "execution_count": 113,
      "metadata": {
        "colab": {
          "base_uri": "https://localhost:8080/",
          "height": 296
        },
        "id": "_ztq0pXFaMBu",
        "outputId": "92e3f63b-b3ea-466d-b627-fd5515c48507"
      },
      "outputs": [
        {
          "data": {
            "text/plain": [
              "<AxesSubplot:xlabel='CompletedHighSchool', ylabel='povertyThreshold'>"
            ]
          },
          "execution_count": 113,
          "metadata": {},
          "output_type": "execute_result"
        },
        {
          "data": {
            "image/png": "[encoded data removed]",
            "text/plain": [
              "<Figure size 432x288 with 1 Axes>"
            ]
          },
          "metadata": {
            "needs_background": "light"
          },
          "output_type": "display_data"
        }
      ],
      "source": [
        "sns.boxplot(x=df['CompletedHighSchool'],y=df['povertyThreshold'],hue=df['isAlcoholic'])"
      ]
    },
    {
      "cell_type": "code",
      "execution_count": 115,
      "metadata": {
        "colab": {
          "base_uri": "https://localhost:8080/",
          "height": 296
        },
        "id": "ajTUVrvibHFQ",
        "outputId": "3400c02b-d2e3-46ca-9d10-f4c3ee065649"
      },
      "outputs": [
        {
          "data": {
            "text/plain": [
              "<AxesSubplot:xlabel='CompletedHighSchool', ylabel='povertyThreshold'>"
            ]
          },
          "execution_count": 115,
          "metadata": {},
          "output_type": "execute_result"
        },
        {
          "data": {
            "image/png": "[encoded data removed]",
            "text/plain": [
              "<Figure size 432x288 with 1 Axes>"
            ]
          },
          "metadata": {
            "needs_background": "light"
          },
          "output_type": "display_data"
        }
      ],
      "source": [
        "sns.boxplot(x=df['CompletedHighSchool'],y=df['povertyThreshold'],hue=df['depression'])"
      ]
    },
    {
      "cell_type": "markdown",
      "metadata": {
        "id": "v22Nwu7PeDYW"
      },
      "source": [
        "# Probability Density Function analysis"
      ]
    },
    {
      "cell_type": "code",
      "execution_count": 116,
      "metadata": {
        "colab": {
          "base_uri": "https://localhost:8080/",
          "height": 297
        },
        "id": "eUaZcJx41GAF",
        "outputId": "d2493292-c770-43e7-ecdc-cb9e74d7b81e"
      },
      "outputs": [
        {
          "data": {
            "text/plain": [
              "<matplotlib.legend.Legend at 0x7fa6f5ae2070>"
            ]
          },
          "execution_count": 116,
          "metadata": {},
          "output_type": "execute_result"
        },
        {
          "data": {
            "image/png": "[encoded data removed]",
            "text/plain": [
              "<Figure size 432x288 with 1 Axes>"
            ]
          },
          "metadata": {
            "needs_background": "light"
          },
          "output_type": "display_data"
        }
      ],
      "source": [
        "sns.kdeplot(df[df['depression']==0]['Age'],label='Not-depressed')\n",
        "sns.kdeplot(df[df['depression']==1]['Age'],label='Depressed')\n",
        "plt.legend()"
      ]
    },
    {
      "cell_type": "code",
      "execution_count": 121,
      "metadata": {
        "colab": {
          "base_uri": "https://localhost:8080/",
          "height": 296
        },
        "id": "qbv_-tsA1yNa",
        "outputId": "9d031e67-34da-460c-89f4-98584e00b1fd"
      },
      "outputs": [
        {
          "data": {
            "text/plain": [
              "<matplotlib.legend.Legend at 0x7fa6f2ada1f0>"
            ]
          },
          "execution_count": 121,
          "metadata": {},
          "output_type": "execute_result"
        },
        {
          "data": {
            "image/png": "[encoded data removed]",
            "text/plain": [
              "<Figure size 432x288 with 1 Axes>"
            ]
          },
          "metadata": {
            "needs_background": "light"
          },
          "output_type": "display_data"
        }
      ],
      "source": [
        "sns.kdeplot(df[df['depression']==0]['BMI'],label='Not-depressed')\n",
        "sns.kdeplot(df[df['depression']==1]['BMI'],label='Depressed')\n",
        "plt.legend()"
      ]
    },
    {
      "cell_type": "markdown",
      "metadata": {
        "id": "PxjZgjpWQyhT"
      },
      "source": [
        "# Heat Maps to understand variation of categories with respect to depression"
      ]
    },
    {
      "cell_type": "code",
      "execution_count": 122,
      "metadata": {
        "colab": {
          "base_uri": "https://localhost:8080/",
          "height": 296
        },
        "id": "H_g9iU2xLPNp",
        "outputId": "58664111-73d0-40ec-c1e8-4d56115ed80f"
      },
      "outputs": [
        {
          "data": {
            "text/plain": [
              "<AxesSubplot:xlabel='depression-isAlcoholic', ylabel='finStatus-familySize'>"
            ]
          },
          "execution_count": 122,
          "metadata": {},
          "output_type": "execute_result"
        },
        {
          "data": {
            "image/png": "[encoded data removed]",
            "text/plain": [
              "<Figure size 432x288 with 2 Axes>"
            ]
          },
          "metadata": {
            "needs_background": "light"
          },
          "output_type": "display_data"
        }
      ],
      "source": [
        "sns.heatmap(pd.crosstab([df['finStatus'],df['familySize']],[df['depression'],df['isAlcoholic']]),cmap=\"YlGnBu\")"
      ]
    },
    {
      "cell_type": "code",
      "execution_count": 124,
      "metadata": {
        "colab": {
          "base_uri": "https://localhost:8080/",
          "height": 296
        },
        "id": "Jgyu-c1sPGJP",
        "outputId": "d09937db-2213-44af-8f44-0acb61044e51"
      },
      "outputs": [
        {
          "data": {
            "text/plain": [
              "<AxesSubplot:xlabel='depression-isAlcoholic', ylabel='weightCategory'>"
            ]
          },
          "execution_count": 124,
          "metadata": {},
          "output_type": "execute_result"
        },
        {
          "data": {
            "image/png": "[encoded data removed]",
            "text/plain": [
              "<Figure size 432x288 with 2 Axes>"
            ]
          },
          "metadata": {
            "needs_background": "light"
          },
          "output_type": "display_data"
        }
      ],
      "source": [
        "sns.heatmap(pd.crosstab([df['weightCategory']],[df['depression'],df['isAlcoholic']]),cmap=\"Greens\")"
      ]
    },
    {
      "cell_type": "code",
      "execution_count": 98,
      "metadata": {
        "colab": {
          "base_uri": "https://localhost:8080/",
          "height": 296
        },
        "id": "uKe4ehsARDRn",
        "outputId": "49b72ed4-0d89-4cb4-b249-4e5f376d3ca4"
      },
      "outputs": [
        {
          "data": {
            "text/plain": [
              "<AxesSubplot:xlabel='depression', ylabel='isAlcoholic-Used Drugs'>"
            ]
          },
          "execution_count": 98,
          "metadata": {},
          "output_type": "execute_result"
        },
        {
          "data": {
            "image/png": "[encoded data removed]",
            "text/plain": [
              "<Figure size 432x288 with 2 Axes>"
            ]
          },
          "metadata": {
            "needs_background": "light"
          },
          "output_type": "display_data"
        }
      ],
      "source": [
        "sns.heatmap(pd.crosstab([df['isAlcoholic'],df['Used Drugs']],[df['depression']]),cmap=\"BuPu\")"
      ]
    },
    {
      "cell_type": "markdown",
      "metadata": {
        "id": "bsMF4NF9SV8w"
      },
      "source": [
        "# Percentage of people in each category suffering with depression"
      ]
    },
    {
      "cell_type": "code",
      "execution_count": 99,
      "metadata": {
        "colab": {
          "base_uri": "https://localhost:8080/"
        },
        "id": "NaRJQDe-Rdc5",
        "outputId": "954c2db9-d64b-4bc3-9b60-5784f38b8ea0"
      },
      "outputs": [
        {
          "data": {
            "text/plain": [
              "isAlcoholic\n",
              "0.0    25.345092\n",
              "1.0    35.304348\n",
              "Name: depression, dtype: float64"
            ]
          },
          "execution_count": 99,
          "metadata": {},
          "output_type": "execute_result"
        }
      ],
      "source": [
        "df.groupby('isAlcoholic').mean()['depression']*100"
      ]
    },
    {
      "cell_type": "code",
      "execution_count": 100,
      "metadata": {
        "colab": {
          "base_uri": "https://localhost:8080/"
        },
        "id": "34EsmiYMSG2x",
        "outputId": "172793cd-ef47-427c-fc94-511ac3160d3f"
      },
      "outputs": [
        {
          "data": {
            "text/plain": [
              "Used Drugs\n",
              "0.0    25.816485\n",
              "1.0    32.733224\n",
              "Name: depression, dtype: float64"
            ]
          },
          "execution_count": 100,
          "metadata": {},
          "output_type": "execute_result"
        }
      ],
      "source": [
        "df.groupby('Used Drugs').mean()['depression']*100"
      ]
    },
    {
      "cell_type": "code",
      "execution_count": 101,
      "metadata": {
        "colab": {
          "base_uri": "https://localhost:8080/"
        },
        "id": "QKphJKxnSKuV",
        "outputId": "45bde0c5-1901-4a4b-d881-71d1550ed581"
      },
      "outputs": [
        {
          "data": {
            "text/plain": [
              "maritalStatus\n",
              "0    30.987514\n",
              "1    22.036927\n",
              "2    35.473515\n",
              "Name: depression, dtype: float64"
            ]
          },
          "execution_count": 101,
          "metadata": {},
          "output_type": "execute_result"
        }
      ],
      "source": [
        "df.groupby('maritalStatus').mean()['depression']*100"
      ]
    },
    {
      "cell_type": "code",
      "execution_count": 129,
      "metadata": {
        "colab": {
          "base_uri": "https://localhost:8080/"
        },
        "id": "OglQCkkEwg89",
        "outputId": "cb0b419c-d70e-4c0c-a301-d24a5fb0a50c"
      },
      "outputs": [
        {
          "data": {
            "text/plain": [
              "maritalStatus\n",
              "0    17.139614\n",
              "1    16.795712\n",
              "2    22.792937\n",
              "Name: isAlcoholic, dtype: float64"
            ]
          },
          "execution_count": 129,
          "metadata": {},
          "output_type": "execute_result"
        }
      ],
      "source": [
        "df.groupby('maritalStatus').mean()['isAlcoholic']*100"
      ]
    },
    {
      "cell_type": "code",
      "execution_count": 102,
      "metadata": {
        "colab": {
          "base_uri": "https://localhost:8080/"
        },
        "id": "CWDGfL0_SeYc",
        "outputId": "693e4ec1-b9f9-493f-8f71-7b0c6bfab0ac"
      },
      "outputs": [
        {
          "data": {
            "text/plain": [
              "weightCategory\n",
              "Healthy         24.923391\n",
              "Obese           28.978389\n",
              "Overweight      26.906223\n",
              "Under Weight    40.000000\n",
              "Name: depression, dtype: float64"
            ]
          },
          "execution_count": 102,
          "metadata": {},
          "output_type": "execute_result"
        }
      ],
      "source": [
        "df.groupby('weightCategory').mean()['depression']*100"
      ]
    },
    {
      "cell_type": "code",
      "execution_count": 103,
      "metadata": {
        "colab": {
          "base_uri": "https://localhost:8080/"
        },
        "id": "SutZkJx0SoJc",
        "outputId": "d304170f-a7ec-4439-f900-71998d7596bb"
      },
      "outputs": [
        {
          "data": {
            "text/plain": [
              "CompletedHighSchool\n",
              "0    34.177215\n",
              "1    24.503025\n",
              "Name: depression, dtype: float64"
            ]
          },
          "execution_count": 103,
          "metadata": {},
          "output_type": "execute_result"
        }
      ],
      "source": [
        "df.groupby('CompletedHighSchool').mean()['depression']*100"
      ]
    },
    {
      "cell_type": "code",
      "execution_count": 104,
      "metadata": {
        "colab": {
          "base_uri": "https://localhost:8080/"
        },
        "id": "hthB9_GMSxds",
        "outputId": "cd172a09-72e3-40d7-fd9a-fdb43b45dc3d"
      },
      "outputs": [
        {
          "data": {
            "text/plain": [
              "familySize\n",
              "Big       28.618421\n",
              "Single    31.338583\n",
              "Small     25.309278\n",
              "Name: depression, dtype: float64"
            ]
          },
          "execution_count": 104,
          "metadata": {},
          "output_type": "execute_result"
        }
      ],
      "source": [
        "df.groupby('familySize').mean()['depression']*100"
      ]
    },
    {
      "cell_type": "code",
      "execution_count": 126,
      "metadata": {
        "colab": {
          "base_uri": "https://localhost:8080/"
        },
        "id": "DauaLX48S5Ok",
        "outputId": "7ac1fbb0-6956-4107-bfa7-d6953f31fb50"
      },
      "outputs": [
        {
          "data": {
            "text/plain": [
              "finStatus\n",
              "Middle class    24.746193\n",
              "Poor            36.395760\n",
              "Rich            15.714286\n",
              "Name: depression, dtype: float64"
            ]
          },
          "execution_count": 126,
          "metadata": {},
          "output_type": "execute_result"
        }
      ],
      "source": [
        "df.groupby('finStatus').mean()['depression']*100"
      ]
    },
    {
      "cell_type": "markdown",
      "metadata": {
        "id": "IglqtvCKgccM"
      },
      "source": [
        "# Correlation matrix\n"
      ]
    },
    {
      "cell_type": "code",
      "execution_count": 106,
      "metadata": {
        "colab": {
          "base_uri": "https://localhost:8080/",
          "height": 599
        },
        "id": "oKS62-q0gbn1",
        "outputId": "3ecddc81-746a-4cdf-810d-b726b30d307f"
      },
      "outputs": [
        {
          "data": {
            "image/png": "[encoded data removed]",
            "text/plain": [
              "<Figure size 720x576 with 2 Axes>"
            ]
          },
          "metadata": {
            "needs_background": "light"
          },
          "output_type": "display_data"
        }
      ],
      "source": [
        "corr_matrix = df.corr()\n",
        "fig, ax = plt.subplots(figsize=(10,8))\n",
        "sns.heatmap(corr_matrix, annot=True, cmap='coolwarm', ax=ax)\n",
        "plt.title('Correlation Matrix')\n",
        "plt.show()\n",
        "\n"
      ]
    }
  ],
  "metadata": {
    "colab": {
      "provenance": []
    },
    "kernelspec": {
      "display_name": "Python 3",
      "name": "python3"
    },
    "language_info": {
      "name": "python"
    }
  },
  "nbformat": 4,
  "nbformat_minor": 0
}
